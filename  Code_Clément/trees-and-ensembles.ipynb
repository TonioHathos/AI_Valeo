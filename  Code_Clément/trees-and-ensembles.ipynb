{
  "nbformat": 4,
  "nbformat_minor": 0,
  "metadata": {
    "colab": {
      "name": "05.trees.ipynb",
      "provenance": [],
      "include_colab_link": true
    },
    "kernelspec": {
      "name": "python3",
      "display_name": "Python 3"
    }
  },
  "cells": [
    {
      "cell_type": "markdown",
      "metadata": {
        "id": "view-in-github",
        "colab_type": "text"
      },
      "source": [
        "<a href=\"https://colab.research.google.com/github/TonioHathos/AI_Valeo/blob/main/%20Code_Cl%C3%A9ment/trees-and-ensembles.ipynb\" target=\"_parent\"><img src=\"https://colab.research.google.com/assets/colab-badge.svg\" alt=\"Open In Colab\"/></a>"
      ]
    },
    {
      "cell_type": "code",
      "metadata": {
        "id": "p3SZL6IGYE4c",
        "colab": {
          "base_uri": "https://localhost:8080/"
        },
        "outputId": "541d1c52-c0ba-4c03-9099-fa16f72feab4"
      },
      "source": [
        "import pandas as pd\n",
        "import numpy as np\n",
        "import matplotlib.pyplot as plt\n",
        "\n",
        "from sklearn.model_selection import train_test_split, RandomizedSearchCV, KFold\n",
        "from sklearn.ensemble import RandomForestClassifier\n",
        "from sklearn.metrics import log_loss\n",
        "\n",
        "from collections import Counter\n",
        "\n",
        "from imblearn.over_sampling import SMOTE\n",
        "\n",
        "\n",
        "# Import the visualization library I prepared for you\n",
        "! wget https://raw.githubusercontent.com/andreaaraldo/machine-learning-for-networks/master/course_library/visualization.py\n",
        "from visualization import plot_conf_mat, plot_feature_importances\n",
        "\n",
        "\n",
        "!pip install ipython-autotime # To show time at each cell\n",
        "                              # Credits to https://medium.com/@arptoth/how-to-measure-execution-time-in-google-colab-707cc9aad1c8\n",
        "%load_ext autotime\n",
        "\n",
        "\n",
        "# The following is to be able to mount Google Drive\n",
        "from google.colab import drive\n",
        "\n",
        "import pickle # To save the model\n",
        "from os.path import isfile"
      ],
      "execution_count": 79,
      "outputs": [
        {
          "output_type": "stream",
          "name": "stdout",
          "text": [
            "--2023-05-31 10:20:32--  https://raw.githubusercontent.com/andreaaraldo/machine-learning-for-networks/master/course_library/visualization.py\n",
            "Resolving raw.githubusercontent.com (raw.githubusercontent.com)... 185.199.111.133, 185.199.109.133, 185.199.110.133, ...\n",
            "Connecting to raw.githubusercontent.com (raw.githubusercontent.com)|185.199.111.133|:443... connected.\n",
            "HTTP request sent, awaiting response... 200 OK\n",
            "Length: 13023 (13K) [text/plain]\n",
            "Saving to: ‘visualization.py.4’\n",
            "\n",
            "\rvisualization.py.4    0%[                    ]       0  --.-KB/s               \rvisualization.py.4  100%[===================>]  12.72K  --.-KB/s    in 0s      \n",
            "\n",
            "2023-05-31 10:20:32 (36.1 MB/s) - ‘visualization.py.4’ saved [13023/13023]\n",
            "\n",
            "Looking in indexes: https://pypi.org/simple, https://us-python.pkg.dev/colab-wheels/public/simple/\n",
            "Requirement already satisfied: ipython-autotime in /usr/local/lib/python3.10/dist-packages (0.3.1)\n",
            "Requirement already satisfied: ipython in /usr/local/lib/python3.10/dist-packages (from ipython-autotime) (7.34.0)\n",
            "Requirement already satisfied: setuptools>=18.5 in /usr/local/lib/python3.10/dist-packages (from ipython->ipython-autotime) (67.7.2)\n",
            "Requirement already satisfied: jedi>=0.16 in /usr/local/lib/python3.10/dist-packages (from ipython->ipython-autotime) (0.18.2)\n",
            "Requirement already satisfied: decorator in /usr/local/lib/python3.10/dist-packages (from ipython->ipython-autotime) (4.4.2)\n",
            "Requirement already satisfied: pickleshare in /usr/local/lib/python3.10/dist-packages (from ipython->ipython-autotime) (0.7.5)\n",
            "Requirement already satisfied: traitlets>=4.2 in /usr/local/lib/python3.10/dist-packages (from ipython->ipython-autotime) (5.7.1)\n",
            "Requirement already satisfied: prompt-toolkit!=3.0.0,!=3.0.1,<3.1.0,>=2.0.0 in /usr/local/lib/python3.10/dist-packages (from ipython->ipython-autotime) (3.0.38)\n",
            "Requirement already satisfied: pygments in /usr/local/lib/python3.10/dist-packages (from ipython->ipython-autotime) (2.14.0)\n",
            "Requirement already satisfied: backcall in /usr/local/lib/python3.10/dist-packages (from ipython->ipython-autotime) (0.2.0)\n",
            "Requirement already satisfied: matplotlib-inline in /usr/local/lib/python3.10/dist-packages (from ipython->ipython-autotime) (0.1.6)\n",
            "Requirement already satisfied: pexpect>4.3 in /usr/local/lib/python3.10/dist-packages (from ipython->ipython-autotime) (4.8.0)\n",
            "Requirement already satisfied: parso<0.9.0,>=0.8.0 in /usr/local/lib/python3.10/dist-packages (from jedi>=0.16->ipython->ipython-autotime) (0.8.3)\n",
            "Requirement already satisfied: ptyprocess>=0.5 in /usr/local/lib/python3.10/dist-packages (from pexpect>4.3->ipython->ipython-autotime) (0.7.0)\n",
            "Requirement already satisfied: wcwidth in /usr/local/lib/python3.10/dist-packages (from prompt-toolkit!=3.0.0,!=3.0.1,<3.1.0,>=2.0.0->ipython->ipython-autotime) (0.2.6)\n",
            "The autotime extension is already loaded. To reload it, use:\n",
            "  %reload_ext autotime\n",
            "time: 6.84 s (started: 2023-05-31 10:20:32 +00:00)\n"
          ]
        }
      ]
    },
    {
      "cell_type": "markdown",
      "metadata": {
        "id": "FAXD9THYlAVY"
      },
      "source": [
        "Mount Google Drive"
      ]
    },
    {
      "cell_type": "code",
      "metadata": {
        "id": "fnCGlHqBlCSv",
        "colab": {
          "base_uri": "https://localhost:8080/"
        },
        "outputId": "174c0573-3499-4989-a128-593ce792cfdf"
      },
      "source": [
        "mount_point = '/content/gdrive' # Always the same, don't change it\n",
        "drive.mount(mount_point, force_remount=True)\n",
        "drive_path = mount_point + '/My Drive/' # Always the same, don't change it\n",
        "my_path = drive_path + \\\n",
        "  'TSP/Apprentissage_automatique_réseau/'"
      ],
      "execution_count": 80,
      "outputs": [
        {
          "output_type": "stream",
          "name": "stdout",
          "text": [
            "Mounted at /content/gdrive\n",
            "time: 3.39 s (started: 2023-05-31 10:20:39 +00:00)\n"
          ]
        }
      ]
    },
    {
      "cell_type": "code",
      "metadata": {
        "id": "BpetR2NnS7JP",
        "colab": {
          "base_uri": "https://localhost:8080/"
        },
        "outputId": "8ec8c1c5-6d84-4c7f-afbd-2e29b9a3c4ff"
      },
      "source": [
        "! rm -f *.csv\n",
        "! wget https://raw.githubusercontent.com/TonioHathos/AI_Valeo/master/df_training_mod.csv\n",
        "df = pd.read_csv('df_training_mod.csv')"
      ],
      "execution_count": 81,
      "outputs": [
        {
          "output_type": "stream",
          "name": "stdout",
          "text": [
            "--2023-05-31 10:20:42--  https://raw.githubusercontent.com/TonioHathos/AI_Valeo/master/df_training_mod.csv\n",
            "Resolving raw.githubusercontent.com (raw.githubusercontent.com)... 185.199.108.133, 185.199.109.133, 185.199.110.133, ...\n",
            "Connecting to raw.githubusercontent.com (raw.githubusercontent.com)|185.199.108.133|:443... connected.\n",
            "HTTP request sent, awaiting response... 200 OK\n",
            "Length: 2666373 (2.5M) [text/plain]\n",
            "Saving to: ‘df_training_mod.csv’\n",
            "\n",
            "df_training_mod.csv 100%[===================>]   2.54M  --.-KB/s    in 0.07s   \n",
            "\n",
            "2023-05-31 10:20:43 (37.8 MB/s) - ‘df_training_mod.csv’ saved [2666373/2666373]\n",
            "\n",
            "time: 965 ms (started: 2023-05-31 10:20:42 +00:00)\n"
          ]
        }
      ]
    },
    {
      "cell_type": "markdown",
      "metadata": {
        "id": "MIpuJgGbX4tz"
      },
      "source": [
        "# Load dataset and preliminary operations\n"
      ]
    },
    {
      "cell_type": "code",
      "metadata": {
        "id": "klofcMKtZqGR",
        "colab": {
          "base_uri": "https://localhost:8080/"
        },
        "outputId": "5510bb85-50c0-4c16-ac3a-718e1bb7fc59"
      },
      "source": [
        "df = df.drop(columns=['Unnamed: 0'])"
      ],
      "execution_count": 82,
      "outputs": [
        {
          "output_type": "stream",
          "name": "stdout",
          "text": [
            "time: 4.13 ms (started: 2023-05-31 10:20:43 +00:00)\n"
          ]
        }
      ]
    },
    {
      "cell_type": "code",
      "source": [
        "df_train, df_test = train_test_split(df, test_size=0.25, random_state=10)"
      ],
      "metadata": {
        "colab": {
          "base_uri": "https://localhost:8080/"
        },
        "id": "NC-ON63Vt8Kf",
        "outputId": "5b21e472-0363-42d3-fc45-772ea59c4b01"
      },
      "execution_count": 83,
      "outputs": [
        {
          "output_type": "stream",
          "name": "stdout",
          "text": [
            "time: 8.9 ms (started: 2023-05-31 10:20:43 +00:00)\n"
          ]
        }
      ]
    },
    {
      "cell_type": "code",
      "source": [
        "y_train = df_train['Binar OP130_Resultat_Global_v'].copy()\n",
        "y_test = df_test['Binar OP130_Resultat_Global_v'].copy()\n",
        "X_train = df_train.drop(columns=['Binar OP130_Resultat_Global_v'])\n",
        "X_test = df_test.drop(columns=['Binar OP130_Resultat_Global_v'])\n",
        "     \n",
        "\n",
        "y_train"
      ],
      "metadata": {
        "colab": {
          "base_uri": "https://localhost:8080/"
        },
        "id": "Jaqp3rBbtten",
        "outputId": "5bd96ba5-d80a-426f-b249-470eca481aae"
      },
      "execution_count": 84,
      "outputs": [
        {
          "output_type": "execute_result",
          "data": {
            "text/plain": [
              "17097    0\n",
              "18011    0\n",
              "32135    0\n",
              "21213    0\n",
              "12074    0\n",
              "        ..\n",
              "10201    0\n",
              "9372     0\n",
              "28017    0\n",
              "29199    0\n",
              "17673    0\n",
              "Name: Binar OP130_Resultat_Global_v, Length: 25886, dtype: int64"
            ]
          },
          "metadata": {},
          "execution_count": 84
        },
        {
          "output_type": "stream",
          "name": "stdout",
          "text": [
            "time: 18.6 ms (started: 2023-05-31 10:20:43 +00:00)\n"
          ]
        }
      ]
    },
    {
      "cell_type": "markdown",
      "metadata": {
        "id": "kzn8ZKz3hFR6"
      },
      "source": [
        "Let's partition the dataset in training and test dataset"
      ]
    },
    {
      "cell_type": "markdown",
      "metadata": {
        "id": "vURrRYS_itCy"
      },
      "source": [
        "Check for class imbalance and correct for it"
      ]
    },
    {
      "cell_type": "code",
      "metadata": {
        "id": "85bp3E7virt5",
        "colab": {
          "base_uri": "https://localhost:8080/"
        },
        "outputId": "4de11094-f6d9-45e5-fe25-7cfdda7cade2"
      },
      "source": [
        "print( \"Samples per class before SMOTE: \", Counter(y_train) )\n",
        "\n",
        "smote = SMOTE()\n",
        "X_train, y_train = smote.fit_resample(X_train, y_train)\n",
        "\n",
        "print( \"Samples per class after SMOTE: \", Counter(y_train) )"
      ],
      "execution_count": 85,
      "outputs": [
        {
          "output_type": "stream",
          "name": "stdout",
          "text": [
            "Samples per class before SMOTE:  Counter({0: 25663, 1: 223})\n",
            "Samples per class after SMOTE:  Counter({0: 25663, 1: 25663})\n",
            "time: 93 ms (started: 2023-05-31 10:20:43 +00:00)\n"
          ]
        }
      ]
    },
    {
      "cell_type": "markdown",
      "source": [
        "### Scaling"
      ],
      "metadata": {
        "id": "GdyvcBgluwo8"
      }
    },
    {
      "cell_type": "markdown",
      "metadata": {
        "id": "nKdysedgj3UP"
      },
      "source": [
        "# Training and testing a random forest"
      ]
    },
    {
      "cell_type": "code",
      "metadata": {
        "id": "JvkIIF5ej7VY",
        "colab": {
          "base_uri": "https://localhost:8080/",
          "height": 164
        },
        "outputId": "3fb372cf-9899-443b-edfe-d365a6351427"
      },
      "source": [
        "model = RandomForestClassifier(n_estimators=100, \n",
        "                      criterion='gini', \n",
        "                      max_leaf_nodes=16, # Each tree cannot have more than that\n",
        "                      random_state=5, # For reproducibility\n",
        "                      n_jobs=-1, # Use all the CPUs\n",
        "                      max_features = 'auto' # auto means=sqrt(n_features)\n",
        "                      )\n",
        "\n",
        "model.fit(X_train, y_train)"
      ],
      "execution_count": 86,
      "outputs": [
        {
          "output_type": "stream",
          "name": "stderr",
          "text": [
            "/usr/local/lib/python3.10/dist-packages/sklearn/ensemble/_forest.py:424: FutureWarning: `max_features='auto'` has been deprecated in 1.1 and will be removed in 1.3. To keep the past behaviour, explicitly set `max_features='sqrt'` or remove this parameter as it is also the default value for RandomForestClassifiers and ExtraTreesClassifiers.\n",
            "  warn(\n"
          ]
        },
        {
          "output_type": "execute_result",
          "data": {
            "text/plain": [
              "RandomForestClassifier(max_features='auto', max_leaf_nodes=16, n_jobs=-1,\n",
              "                       random_state=5)"
            ],
            "text/html": [
              "<style>#sk-container-id-5 {color: black;background-color: white;}#sk-container-id-5 pre{padding: 0;}#sk-container-id-5 div.sk-toggleable {background-color: white;}#sk-container-id-5 label.sk-toggleable__label {cursor: pointer;display: block;width: 100%;margin-bottom: 0;padding: 0.3em;box-sizing: border-box;text-align: center;}#sk-container-id-5 label.sk-toggleable__label-arrow:before {content: \"▸\";float: left;margin-right: 0.25em;color: #696969;}#sk-container-id-5 label.sk-toggleable__label-arrow:hover:before {color: black;}#sk-container-id-5 div.sk-estimator:hover label.sk-toggleable__label-arrow:before {color: black;}#sk-container-id-5 div.sk-toggleable__content {max-height: 0;max-width: 0;overflow: hidden;text-align: left;background-color: #f0f8ff;}#sk-container-id-5 div.sk-toggleable__content pre {margin: 0.2em;color: black;border-radius: 0.25em;background-color: #f0f8ff;}#sk-container-id-5 input.sk-toggleable__control:checked~div.sk-toggleable__content {max-height: 200px;max-width: 100%;overflow: auto;}#sk-container-id-5 input.sk-toggleable__control:checked~label.sk-toggleable__label-arrow:before {content: \"▾\";}#sk-container-id-5 div.sk-estimator input.sk-toggleable__control:checked~label.sk-toggleable__label {background-color: #d4ebff;}#sk-container-id-5 div.sk-label input.sk-toggleable__control:checked~label.sk-toggleable__label {background-color: #d4ebff;}#sk-container-id-5 input.sk-hidden--visually {border: 0;clip: rect(1px 1px 1px 1px);clip: rect(1px, 1px, 1px, 1px);height: 1px;margin: -1px;overflow: hidden;padding: 0;position: absolute;width: 1px;}#sk-container-id-5 div.sk-estimator {font-family: monospace;background-color: #f0f8ff;border: 1px dotted black;border-radius: 0.25em;box-sizing: border-box;margin-bottom: 0.5em;}#sk-container-id-5 div.sk-estimator:hover {background-color: #d4ebff;}#sk-container-id-5 div.sk-parallel-item::after {content: \"\";width: 100%;border-bottom: 1px solid gray;flex-grow: 1;}#sk-container-id-5 div.sk-label:hover label.sk-toggleable__label {background-color: #d4ebff;}#sk-container-id-5 div.sk-serial::before {content: \"\";position: absolute;border-left: 1px solid gray;box-sizing: border-box;top: 0;bottom: 0;left: 50%;z-index: 0;}#sk-container-id-5 div.sk-serial {display: flex;flex-direction: column;align-items: center;background-color: white;padding-right: 0.2em;padding-left: 0.2em;position: relative;}#sk-container-id-5 div.sk-item {position: relative;z-index: 1;}#sk-container-id-5 div.sk-parallel {display: flex;align-items: stretch;justify-content: center;background-color: white;position: relative;}#sk-container-id-5 div.sk-item::before, #sk-container-id-5 div.sk-parallel-item::before {content: \"\";position: absolute;border-left: 1px solid gray;box-sizing: border-box;top: 0;bottom: 0;left: 50%;z-index: -1;}#sk-container-id-5 div.sk-parallel-item {display: flex;flex-direction: column;z-index: 1;position: relative;background-color: white;}#sk-container-id-5 div.sk-parallel-item:first-child::after {align-self: flex-end;width: 50%;}#sk-container-id-5 div.sk-parallel-item:last-child::after {align-self: flex-start;width: 50%;}#sk-container-id-5 div.sk-parallel-item:only-child::after {width: 0;}#sk-container-id-5 div.sk-dashed-wrapped {border: 1px dashed gray;margin: 0 0.4em 0.5em 0.4em;box-sizing: border-box;padding-bottom: 0.4em;background-color: white;}#sk-container-id-5 div.sk-label label {font-family: monospace;font-weight: bold;display: inline-block;line-height: 1.2em;}#sk-container-id-5 div.sk-label-container {text-align: center;}#sk-container-id-5 div.sk-container {/* jupyter's `normalize.less` sets `[hidden] { display: none; }` but bootstrap.min.css set `[hidden] { display: none !important; }` so we also need the `!important` here to be able to override the default hidden behavior on the sphinx rendered scikit-learn.org. See: https://github.com/scikit-learn/scikit-learn/issues/21755 */display: inline-block !important;position: relative;}#sk-container-id-5 div.sk-text-repr-fallback {display: none;}</style><div id=\"sk-container-id-5\" class=\"sk-top-container\"><div class=\"sk-text-repr-fallback\"><pre>RandomForestClassifier(max_features=&#x27;auto&#x27;, max_leaf_nodes=16, n_jobs=-1,\n",
              "                       random_state=5)</pre><b>In a Jupyter environment, please rerun this cell to show the HTML representation or trust the notebook. <br />On GitHub, the HTML representation is unable to render, please try loading this page with nbviewer.org.</b></div><div class=\"sk-container\" hidden><div class=\"sk-item\"><div class=\"sk-estimator sk-toggleable\"><input class=\"sk-toggleable__control sk-hidden--visually\" id=\"sk-estimator-id-9\" type=\"checkbox\" checked><label for=\"sk-estimator-id-9\" class=\"sk-toggleable__label sk-toggleable__label-arrow\">RandomForestClassifier</label><div class=\"sk-toggleable__content\"><pre>RandomForestClassifier(max_features=&#x27;auto&#x27;, max_leaf_nodes=16, n_jobs=-1,\n",
              "                       random_state=5)</pre></div></div></div></div></div>"
            ]
          },
          "metadata": {},
          "execution_count": 86
        },
        {
          "output_type": "stream",
          "name": "stdout",
          "text": [
            "time: 11.8 s (started: 2023-05-31 10:20:43 +00:00)\n"
          ]
        }
      ]
    },
    {
      "cell_type": "code",
      "metadata": {
        "id": "NoM2Tv84VOnF",
        "colab": {
          "base_uri": "https://localhost:8080/",
          "height": 911
        },
        "outputId": "929bcf58-1a56-4f20-e1e5-4e2ca904c420"
      },
      "source": [
        "y_pred = model.predict(X_test)\n",
        "\n",
        "class_names = np.array(['ok', 'fail'])\n",
        "plot_conf_mat(y_test, y_pred, class_names)"
      ],
      "execution_count": 87,
      "outputs": [
        {
          "output_type": "stream",
          "name": "stdout",
          "text": [
            "Normalized confusion matrix\n",
            "[[0.84930385 0.15069615]\n",
            " [0.53658537 0.46341463]]\n"
          ]
        },
        {
          "output_type": "execute_result",
          "data": {
            "text/plain": [
              "<Axes: title={'center': 'Normalized confusion matrix'}, xlabel='Predicted label', ylabel='True label'>"
            ]
          },
          "metadata": {},
          "execution_count": 87
        },
        {
          "output_type": "display_data",
          "data": {
            "text/plain": [
              "<Figure size 800x800 with 2 Axes>"
            ],
            "image/png": "[encoded data removed]"
          },
          "metadata": {}
        },
        {
          "output_type": "stream",
          "name": "stdout",
          "text": [
            "time: 1.22 s (started: 2023-05-31 10:20:55 +00:00)\n"
          ]
        }
      ]
    },
    {
      "cell_type": "markdown",
      "metadata": {
        "id": "kbvEAr_9X0j8"
      },
      "source": [
        "Let's check the feature importance"
      ]
    },
    {
      "cell_type": "code",
      "metadata": {
        "id": "6VoOAQ9XXprs",
        "colab": {
          "base_uri": "https://localhost:8080/",
          "height": 594
        },
        "outputId": "376a1846-5e16-4795-b37d-1402bc5150cf"
      },
      "source": [
        "feature_names = X_test.columns\n",
        "plot_feature_importances(model.feature_importances_, feature_names)\n",
        "feature_names"
      ],
      "execution_count": 88,
      "outputs": [
        {
          "output_type": "display_data",
          "data": {
            "text/plain": [
              "<Figure size 640x480 with 1 Axes>"
            ],
            "image/png": "[encoded data removed]"
          },
          "metadata": {}
        },
        {
          "output_type": "execute_result",
          "data": {
            "text/plain": [
              "Index(['OP070_V_1_angle_value', 'OP090_SnapRingPeakForce_value',\n",
              "       'OP070_V_2_angle_value', 'OP120_Rodage_I_mesure_value',\n",
              "       'OP090_SnapRingFinalStroke_value', 'OP110_Vissage_M8_torque_value',\n",
              "       'OP100_Capuchon_insertion_mesure', 'OP120_Rodage_U_mesure_value',\n",
              "       'OP090_StartLinePeakForce_value', 'OP110_Vissage_M8_angle_value',\n",
              "       'OP090_SnapRingMidPointForce_val', 'OP070_V_2_torque_value'],\n",
              "      dtype='object')"
            ]
          },
          "metadata": {},
          "execution_count": 88
        },
        {
          "output_type": "stream",
          "name": "stdout",
          "text": [
            "time: 689 ms (started: 2023-05-31 10:20:56 +00:00)\n"
          ]
        }
      ]
    },
    {
      "cell_type": "markdown",
      "metadata": {
        "id": "FDhLe2UAari_"
      },
      "source": [
        "Memory and Disk are the most determining factors in producing a failure"
      ]
    },
    {
      "cell_type": "markdown",
      "metadata": {
        "id": "wHsY9OsxekhI"
      },
      "source": [
        "# Hyperparameter tuning\n",
        "You have three possibility:\n",
        "* Manual tuning: \n",
        "  * Divide the training set in training subset and validation subset\n",
        "  * Train different classifiers (with different hyperparameters) on the training subset\n",
        "  * Check their performance, i.e., accuracy, on the validation subset\n",
        "  * Choose the best\n",
        "  * Test it on the test set\n",
        "* `GridSearchCV` (as in `02.regression/b.polynomial-regression.ipynb`)\n",
        "* `RandomizedSearchCV`\n",
        "\n",
        "We use the latter now. See [Open Data Science post](https://medium.com/@ODSC/optimizing-hyperparameters-for-random-forest-algorithms-in-scikit-learn-d60b7aa07ead).\n",
        "\n",
        "Let's first define the values of the parameters we want to explore"
      ]
    },
    {
      "cell_type": "code",
      "metadata": {
        "id": "UJZBmbTTfdUB",
        "colab": {
          "base_uri": "https://localhost:8080/"
        },
        "outputId": "f760f0c3-cba9-455f-fa36-35699d82ef6e"
      },
      "source": [
        " param_grid = {\n",
        "    'criterion':['gini', 'entropy'],\n",
        "    'max_features':'auto',\n",
        "\n",
        "    # Number of allowed leafs\n",
        "    'max_leaf_nodes':[16, 32, 64, 128, 256, 512, 1024, 2048],\n",
        "\n",
        "    # A node will be split if this split induces a decrease of the \n",
        "    # impurity greater than or equal to this value.\n",
        "    'min_impurity_decrease' : [0, 0.001, 0.01, 0.1, 0.2],\n",
        "            \n",
        "    'max_depth':[1,10,100,1000,10000,100000],\n",
        "\n",
        "    # A node can be a leaf only if it contains at least the following fraction\n",
        "    # of samples\n",
        "    'min_weight_fraction_leaf' : [0.1, 0.01, 0.001, 0]\n",
        "    \n",
        "}"
      ],
      "execution_count": 89,
      "outputs": [
        {
          "output_type": "stream",
          "name": "stdout",
          "text": [
            "time: 918 µs (started: 2023-05-31 10:20:57 +00:00)\n"
          ]
        }
      ]
    },
    {
      "cell_type": "markdown",
      "metadata": {
        "id": "05YiuGo-zBNt"
      },
      "source": [
        "We have a lot of possible configurations to check. We specify to just test 50\n",
        "out of them.\n"
      ]
    },
    {
      "cell_type": "code",
      "metadata": {
        "id": "GGJ8LEylhRcU",
        "colab": {
          "base_uri": "https://localhost:8080/",
          "height": 375
        },
        "outputId": "fe10eb05-81f5-4892-db9b-0dc6babc7573"
      },
      "source": [
        "# Before we had used all the availble CPUs for training one random forest.\n",
        "# Now, instead, we use one CPU per random forest (n_jobs=1). \n",
        "forest = RandomForestClassifier(n_estimators=100, random_state = 4, n_jobs=1,)\n",
        "\n",
        "\n",
        "search = RandomizedSearchCV(\n",
        "                            scoring = 'accuracy', # See other possible metrics in\n",
        "                                                # https://scikit-learn.org/stable/modules/model_evaluation.html#scoring-parameter\n",
        "                            \n",
        "                            estimator=forest, \n",
        "                            param_distributions=param_grid,\n",
        "                            n_iter=50, # We just test 50 configurations\n",
        "                            verbose=2,random_state=42, \n",
        "                            n_jobs=-1, # Triain forests in parallel using \n",
        "                                      # all CPUs\n",
        "                            cv=5 # 5-fold validation                      \n",
        "                          )\n",
        "# Note that we are training different random forests in parallel (n_jobs=-1),\n",
        "# each with a certain combination of hyper-parameters.\n",
        "\n",
        "search.fit(X_train, y_train)"
      ],
      "execution_count": 90,
      "outputs": [
        {
          "metadata": {
            "tags": null
          },
          "name": "stdout",
          "output_type": "stream",
          "text": [
            "Fitting 5 folds for each of 50 candidates, totalling 250 fits\n"
          ]
        },
        {
          "data": {
            "text/html": [
              "<style>#sk-container-id-6 {color: black;background-color: white;}#sk-container-id-6 pre{padding: 0;}#sk-container-id-6 div.sk-toggleable {background-color: white;}#sk-container-id-6 label.sk-toggleable__label {cursor: pointer;display: block;width: 100%;margin-bottom: 0;padding: 0.3em;box-sizing: border-box;text-align: center;}#sk-container-id-6 label.sk-toggleable__label-arrow:before {content: \"▸\";float: left;margin-right: 0.25em;color: #696969;}#sk-container-id-6 label.sk-toggleable__label-arrow:hover:before {color: black;}#sk-container-id-6 div.sk-estimator:hover label.sk-toggleable__label-arrow:before {color: black;}#sk-container-id-6 div.sk-toggleable__content {max-height: 0;max-width: 0;overflow: hidden;text-align: left;background-color: #f0f8ff;}#sk-container-id-6 div.sk-toggleable__content pre {margin: 0.2em;color: black;border-radius: 0.25em;background-color: #f0f8ff;}#sk-container-id-6 input.sk-toggleable__control:checked~div.sk-toggleable__content {max-height: 200px;max-width: 100%;overflow: auto;}#sk-container-id-6 input.sk-toggleable__control:checked~label.sk-toggleable__label-arrow:before {content: \"▾\";}#sk-container-id-6 div.sk-estimator input.sk-toggleable__control:checked~label.sk-toggleable__label {background-color: #d4ebff;}#sk-container-id-6 div.sk-label input.sk-toggleable__control:checked~label.sk-toggleable__label {background-color: #d4ebff;}#sk-container-id-6 input.sk-hidden--visually {border: 0;clip: rect(1px 1px 1px 1px);clip: rect(1px, 1px, 1px, 1px);height: 1px;margin: -1px;overflow: hidden;padding: 0;position: absolute;width: 1px;}#sk-container-id-6 div.sk-estimator {font-family: monospace;background-color: #f0f8ff;border: 1px dotted black;border-radius: 0.25em;box-sizing: border-box;margin-bottom: 0.5em;}#sk-container-id-6 div.sk-estimator:hover {background-color: #d4ebff;}#sk-container-id-6 div.sk-parallel-item::after {content: \"\";width: 100%;border-bottom: 1px solid gray;flex-grow: 1;}#sk-container-id-6 div.sk-label:hover label.sk-toggleable__label {background-color: #d4ebff;}#sk-container-id-6 div.sk-serial::before {content: \"\";position: absolute;border-left: 1px solid gray;box-sizing: border-box;top: 0;bottom: 0;left: 50%;z-index: 0;}#sk-container-id-6 div.sk-serial {display: flex;flex-direction: column;align-items: center;background-color: white;padding-right: 0.2em;padding-left: 0.2em;position: relative;}#sk-container-id-6 div.sk-item {position: relative;z-index: 1;}#sk-container-id-6 div.sk-parallel {display: flex;align-items: stretch;justify-content: center;background-color: white;position: relative;}#sk-container-id-6 div.sk-item::before, #sk-container-id-6 div.sk-parallel-item::before {content: \"\";position: absolute;border-left: 1px solid gray;box-sizing: border-box;top: 0;bottom: 0;left: 50%;z-index: -1;}#sk-container-id-6 div.sk-parallel-item {display: flex;flex-direction: column;z-index: 1;position: relative;background-color: white;}#sk-container-id-6 div.sk-parallel-item:first-child::after {align-self: flex-end;width: 50%;}#sk-container-id-6 div.sk-parallel-item:last-child::after {align-self: flex-start;width: 50%;}#sk-container-id-6 div.sk-parallel-item:only-child::after {width: 0;}#sk-container-id-6 div.sk-dashed-wrapped {border: 1px dashed gray;margin: 0 0.4em 0.5em 0.4em;box-sizing: border-box;padding-bottom: 0.4em;background-color: white;}#sk-container-id-6 div.sk-label label {font-family: monospace;font-weight: bold;display: inline-block;line-height: 1.2em;}#sk-container-id-6 div.sk-label-container {text-align: center;}#sk-container-id-6 div.sk-container {/* jupyter's `normalize.less` sets `[hidden] { display: none; }` but bootstrap.min.css set `[hidden] { display: none !important; }` so we also need the `!important` here to be able to override the default hidden behavior on the sphinx rendered scikit-learn.org. See: https://github.com/scikit-learn/scikit-learn/issues/21755 */display: inline-block !important;position: relative;}#sk-container-id-6 div.sk-text-repr-fallback {display: none;}</style><div id=\"sk-container-id-6\" class=\"sk-top-container\"><div class=\"sk-text-repr-fallback\"><pre>RandomizedSearchCV(cv=5,\n",
              "                   estimator=RandomForestClassifier(n_jobs=1, random_state=4),\n",
              "                   n_iter=50, n_jobs=-1,\n",
              "                   param_distributions={&#x27;criterion&#x27;: [&#x27;gini&#x27;, &#x27;entropy&#x27;],\n",
              "                                        &#x27;max_depth&#x27;: [1, 10, 100, 1000, 10000,\n",
              "                                                      100000],\n",
              "                                        &#x27;max_features&#x27;: [1, 2, 3, 4, 5],\n",
              "                                        &#x27;max_leaf_nodes&#x27;: [16, 32, 64, 128, 256,\n",
              "                                                           512, 1024, 2048],\n",
              "                                        &#x27;min_impurity_decrease&#x27;: [0, 0.001,\n",
              "                                                                  0.01, 0.1,\n",
              "                                                                  0.2],\n",
              "                                        &#x27;min_weight_fraction_leaf&#x27;: [0.1, 0.01,\n",
              "                                                                     0.001,\n",
              "                                                                     0]},\n",
              "                   random_state=42, scoring=&#x27;accuracy&#x27;, verbose=2)</pre><b>In a Jupyter environment, please rerun this cell to show the HTML representation or trust the notebook. <br />On GitHub, the HTML representation is unable to render, please try loading this page with nbviewer.org.</b></div><div class=\"sk-container\" hidden><div class=\"sk-item sk-dashed-wrapped\"><div class=\"sk-label-container\"><div class=\"sk-label sk-toggleable\"><input class=\"sk-toggleable__control sk-hidden--visually\" id=\"sk-estimator-id-10\" type=\"checkbox\" ><label for=\"sk-estimator-id-10\" class=\"sk-toggleable__label sk-toggleable__label-arrow\">RandomizedSearchCV</label><div class=\"sk-toggleable__content\"><pre>RandomizedSearchCV(cv=5,\n",
              "                   estimator=RandomForestClassifier(n_jobs=1, random_state=4),\n",
              "                   n_iter=50, n_jobs=-1,\n",
              "                   param_distributions={&#x27;criterion&#x27;: [&#x27;gini&#x27;, &#x27;entropy&#x27;],\n",
              "                                        &#x27;max_depth&#x27;: [1, 10, 100, 1000, 10000,\n",
              "                                                      100000],\n",
              "                                        &#x27;max_features&#x27;: [1, 2, 3, 4, 5],\n",
              "                                        &#x27;max_leaf_nodes&#x27;: [16, 32, 64, 128, 256,\n",
              "                                                           512, 1024, 2048],\n",
              "                                        &#x27;min_impurity_decrease&#x27;: [0, 0.001,\n",
              "                                                                  0.01, 0.1,\n",
              "                                                                  0.2],\n",
              "                                        &#x27;min_weight_fraction_leaf&#x27;: [0.1, 0.01,\n",
              "                                                                     0.001,\n",
              "                                                                     0]},\n",
              "                   random_state=42, scoring=&#x27;accuracy&#x27;, verbose=2)</pre></div></div></div><div class=\"sk-parallel\"><div class=\"sk-parallel-item\"><div class=\"sk-item\"><div class=\"sk-label-container\"><div class=\"sk-label sk-toggleable\"><input class=\"sk-toggleable__control sk-hidden--visually\" id=\"sk-estimator-id-11\" type=\"checkbox\" ><label for=\"sk-estimator-id-11\" class=\"sk-toggleable__label sk-toggleable__label-arrow\">estimator: RandomForestClassifier</label><div class=\"sk-toggleable__content\"><pre>RandomForestClassifier(n_jobs=1, random_state=4)</pre></div></div></div><div class=\"sk-serial\"><div class=\"sk-item\"><div class=\"sk-estimator sk-toggleable\"><input class=\"sk-toggleable__control sk-hidden--visually\" id=\"sk-estimator-id-12\" type=\"checkbox\" ><label for=\"sk-estimator-id-12\" class=\"sk-toggleable__label sk-toggleable__label-arrow\">RandomForestClassifier</label><div class=\"sk-toggleable__content\"><pre>RandomForestClassifier(n_jobs=1, random_state=4)</pre></div></div></div></div></div></div></div></div></div></div>"
            ],
            "text/plain": [
              "RandomizedSearchCV(cv=5,\n",
              "                   estimator=RandomForestClassifier(n_jobs=1, random_state=4),\n",
              "                   n_iter=50, n_jobs=-1,\n",
              "                   param_distributions={'criterion': ['gini', 'entropy'],\n",
              "                                        'max_depth': [1, 10, 100, 1000, 10000,\n",
              "                                                      100000],\n",
              "                                        'max_features': [1, 2, 3, 4, 5],\n",
              "                                        'max_leaf_nodes': [16, 32, 64, 128, 256,\n",
              "                                                           512, 1024, 2048],\n",
              "                                        'min_impurity_decrease': [0, 0.001,\n",
              "                                                                  0.01, 0.1,\n",
              "                                                                  0.2],\n",
              "                                        'min_weight_fraction_leaf': [0.1, 0.01,\n",
              "                                                                     0.001,\n",
              "                                                                     0]},\n",
              "                   random_state=42, scoring='accuracy', verbose=2)"
            ]
          },
          "execution_count": 90,
          "metadata": {},
          "output_type": "execute_result"
        },
        {
          "metadata": {
            "tags": null
          },
          "name": "stdout",
          "output_type": "stream",
          "text": [
            "time: 13min 36s (started: 2023-05-31 10:20:57 +00:00)\n"
          ]
        }
      ]
    },
    {
      "cell_type": "code",
      "metadata": {
        "id": "9DAreqI_ylof",
        "colab": {
          "base_uri": "https://localhost:8080/"
        },
        "outputId": "be3d93c4-4d8b-44fe-c2bb-1231add8f932"
      },
      "source": [
        "print(search.best_params_)\n",
        "\n",
        "model = search.best_estimator_\n"
      ],
      "execution_count": 91,
      "outputs": [
        {
          "metadata": {
            "tags": null
          },
          "name": "stdout",
          "output_type": "stream",
          "text": [
            "{'min_weight_fraction_leaf': 0, 'min_impurity_decrease': 0.001, 'max_leaf_nodes': 64, 'max_features': 3, 'max_depth': 100000, 'criterion': 'entropy'}\n",
            "time: 1.57 ms (started: 2023-05-31 10:34:34 +00:00)\n"
          ]
        }
      ]
    },
    {
      "cell_type": "markdown",
      "metadata": {
        "id": "UakXaA42SAp5"
      },
      "source": [
        "Now that we have the model with the best hyperparameters, we train it on the entire dataset"
      ]
    },
    {
      "cell_type": "code",
      "metadata": {
        "colab": {
          "base_uri": "https://localhost:8080/",
          "height": 909
        },
        "id": "naCQDJXTSIrR",
        "outputId": "f0231834-963b-4318-8464-8af4efe8807c"
      },
      "source": [
        "model.fit(X_train, y_train)\n",
        "y_pred = model.predict(X_test)\n",
        "\n",
        "plot_conf_mat(y_test, y_pred, class_names)"
      ],
      "execution_count": 92,
      "outputs": [
        {
          "metadata": {
            "tags": null
          },
          "name": "stdout",
          "output_type": "stream",
          "text": [
            "Normalized confusion matrix\n",
            "[[0.90534691 0.09465309]\n",
            " [0.59756098 0.40243902]]\n"
          ]
        },
        {
          "data": {
            "text/plain": [
              "<Axes: title={'center': 'Normalized confusion matrix'}, xlabel='Predicted label', ylabel='True label'>"
            ]
          },
          "execution_count": 92,
          "metadata": {},
          "output_type": "execute_result"
        },
        {
          "data": {
            "image/png": "[encoded data removed]",
            "text/plain": [
              "<Figure size 800x800 with 2 Axes>"
            ]
          },
          "metadata": {},
          "output_type": "display_data"
        },
        {
          "metadata": {
            "tags": null
          },
          "name": "stdout",
          "output_type": "stream",
          "text": [
            "time: 13.8 s (started: 2023-05-31 10:34:34 +00:00)\n"
          ]
        }
      ]
    },
    {
      "cell_type": "markdown",
      "metadata": {
        "id": "2HGxLiTjmINw"
      },
      "source": [
        "Note that we get also get probabilities with RandomForests (fraction of trees \n",
        "\n",
        "*   Élément de liste\n",
        "*   Élément de liste\n",
        "\n",
        "that predicted `1`). And thus, we can compute cross-entropy"
      ]
    },
    {
      "cell_type": "code",
      "metadata": {
        "id": "F8xj3fczmdPG",
        "colab": {
          "base_uri": "https://localhost:8080/"
        },
        "outputId": "0cfa1624-a117-402a-a2a7-b711c3e88059"
      },
      "source": [
        "proba = model.predict_proba(X_test)\n",
        "print(\"Output probabilities are \",proba)\n",
        "\n",
        "\n",
        "print(\"Cross entropy = \", log_loss(y_test, proba))"
      ],
      "execution_count": 93,
      "outputs": [
        {
          "metadata": {
            "tags": null
          },
          "name": "stdout",
          "output_type": "stream",
          "text": [
            "Output probabilities are  [[0.88495974 0.11504026]\n",
            " [0.90498227 0.09501773]\n",
            " [0.53440928 0.46559072]\n",
            " ...\n",
            " [0.87150866 0.12849134]\n",
            " [0.42620934 0.57379066]\n",
            " [0.89277895 0.10722105]]\n",
            "Cross entropy =  0.26909549584921905\n",
            "time: 152 ms (started: 2023-05-31 10:34:47 +00:00)\n"
          ]
        }
      ]
    },
    {
      "cell_type": "markdown",
      "metadata": {
        "id": "zW4MHSBYoHZs"
      },
      "source": [
        "Don't confuse cross-entropy with entropy of a tree node!"
      ]
    },
    {
      "cell_type": "markdown",
      "metadata": {
        "id": "M8DGKHTglbWP"
      },
      "source": [
        "Since it may take some time to perform randomized search, let's save the model (**serializing** the python object)"
      ]
    },
    {
      "cell_type": "code",
      "metadata": {
        "id": "-BrMXobAlg6h",
        "colab": {
          "base_uri": "https://localhost:8080/"
        },
        "outputId": "d9d09525-766a-4d3f-8ce3-fc8696d8b445"
      },
      "source": [
        "filename = my_path+'forest-1.pkl'\n",
        "pickle.dump(model, open(filename, 'wb'))"
      ],
      "execution_count": 94,
      "outputs": [
        {
          "metadata": {
            "tags": null
          },
          "name": "stdout",
          "output_type": "stream",
          "text": [
            "time: 56.7 ms (started: 2023-05-31 10:34:48 +00:00)\n"
          ]
        }
      ]
    },
    {
      "cell_type": "markdown",
      "metadata": {
        "id": "idRrGqyTmEjh"
      },
      "source": [
        "To later retrieve it:\n",
        "\n"
      ]
    },
    {
      "cell_type": "code",
      "metadata": {
        "id": "BdQ_XXhbmOoh",
        "colab": {
          "base_uri": "https://localhost:8080/"
        },
        "outputId": "1b06ae1b-03db-4420-9f47-be35002d5720"
      },
      "source": [
        "model = pickle.load(open(filename, 'rb'))"
      ],
      "execution_count": 95,
      "outputs": [
        {
          "metadata": {
            "tags": null
          },
          "name": "stdout",
          "output_type": "stream",
          "text": [
            "time: 13.4 ms (started: 2023-05-31 10:34:48 +00:00)\n"
          ]
        }
      ]
    },
    {
      "cell_type": "markdown",
      "metadata": {
        "id": "WPR8zkpMmvFg"
      },
      "source": [
        "It is convenient to automate this process"
      ]
    },
    {
      "cell_type": "code",
      "metadata": {
        "id": "0WUn3T5Lmyby",
        "colab": {
          "base_uri": "https://localhost:8080/"
        },
        "outputId": "2cbe18a4-1b31-408f-e8ee-972473d65c46"
      },
      "source": [
        "def search_or_load(model_filename, search, X_train, y_train):\n",
        "  if(isfile(model_filename) ):\n",
        "    print(\"Loading model\")\n",
        "    model = pickle.load(open(model_filename, 'rb'))\n",
        "\n",
        "  else:\n",
        "    print(\"Searching the best hyper_parameters\")\n",
        "    search.fit(X_train, y_train)\n",
        "    print(search.best_params_)\n",
        "    model = search.best_estimator_\n",
        "    print(\"Training model\")\n",
        "    model.fit(X_train,y_train)\n",
        "    pickle.dump(model, open(model_filename, 'wb'))\n",
        "    print(\"Model saved in in file \", model_filename)\n",
        "  return model\n"
      ],
      "execution_count": 96,
      "outputs": [
        {
          "metadata": {
            "tags": null
          },
          "name": "stdout",
          "output_type": "stream",
          "text": [
            "time: 953 µs (started: 2023-05-31 10:34:48 +00:00)\n"
          ]
        }
      ]
    },
    {
      "cell_type": "markdown",
      "metadata": {
        "id": "0ZMh852ona4j"
      },
      "source": [
        "If we call this function, it will not redo the search, as the model has already been saved"
      ]
    },
    {
      "cell_type": "code",
      "metadata": {
        "id": "WSNcP0FcnjB_",
        "colab": {
          "base_uri": "https://localhost:8080/"
        },
        "outputId": "dce74dcf-d48c-4ac9-f440-fa101a718ae4"
      },
      "source": [
        "model = search_or_load(filename, search, X_train, y_train)"
      ],
      "execution_count": 97,
      "outputs": [
        {
          "metadata": {
            "tags": null
          },
          "name": "stdout",
          "output_type": "stream",
          "text": [
            "Loading model\n",
            "time: 21.5 ms (started: 2023-05-31 10:34:48 +00:00)\n"
          ]
        }
      ]
    },
    {
      "cell_type": "markdown",
      "metadata": {
        "id": "oWms3-A_1B9e"
      },
      "source": [
        "### More iterations\n",
        "\n",
        "\n",
        "Let's try to increase the number of tested configurations\n"
      ]
    },
    {
      "cell_type": "code",
      "metadata": {
        "id": "RlWTBjvr1I4i",
        "colab": {
          "base_uri": "https://localhost:8080/"
        },
        "outputId": "e2b442d8-36a7-4a8c-d7bc-1180e5b600bb"
      },
      "source": [
        "search = RandomizedSearchCV(\n",
        "                            scoring = 'accuracy', # See other possible metrics in\n",
        "                                                # https://scikit-learn.org/stable/modules/model_evaluation.html#scoring-parameter\n",
        "                            \n",
        "                            estimator=forest, \n",
        "                            param_distributions=param_grid,\n",
        "                            n_iter=200,\n",
        "                            verbose=2,random_state=42, \n",
        "                            n_jobs=-1, # Triain forests in parallel using \n",
        "                                      # all CPUs\n",
        "                            cv=5 # 5-fold validation                      \n",
        "                          )\n",
        "\n"
      ],
      "execution_count": 98,
      "outputs": [
        {
          "metadata": {
            "tags": null
          },
          "name": "stdout",
          "output_type": "stream",
          "text": [
            "time: 649 µs (started: 2023-05-31 10:34:48 +00:00)\n"
          ]
        }
      ]
    },
    {
      "cell_type": "code",
      "metadata": {
        "id": "KLZdyyqj8go5",
        "colab": {
          "base_uri": "https://localhost:8080/"
        },
        "outputId": "6e69d60c-2ea2-4e43-f30a-b857a1577919"
      },
      "source": [
        "filename = my_path + 'forest-2.pkl'\n",
        "model = search_or_load(filename, search, X_train, y_train)"
      ],
      "execution_count": 99,
      "outputs": [
        {
          "metadata": {
            "tags": null
          },
          "name": "stdout",
          "output_type": "stream",
          "text": [
            "Loading model\n",
            "time: 83.9 ms (started: 2023-05-31 10:34:48 +00:00)\n"
          ]
        }
      ]
    },
    {
      "cell_type": "code",
      "metadata": {
        "id": "yNPVrptu25IM",
        "colab": {
          "base_uri": "https://localhost:8080/",
          "height": 911
        },
        "outputId": "52b209bb-c1ab-4188-fbff-105187f56d15"
      },
      "source": [
        "\n",
        "y_pred = model.predict(X_test)\n",
        "\n",
        "plot_conf_mat(y_test, y_pred, class_names)"
      ],
      "execution_count": 100,
      "outputs": [
        {
          "metadata": {
            "tags": null
          },
          "name": "stdout",
          "output_type": "stream",
          "text": [
            "Normalized confusion matrix\n",
            "[[0.998011   0.001989  ]\n",
            " [0.97560976 0.02439024]]\n"
          ]
        },
        {
          "data": {
            "text/plain": [
              "<Axes: title={'center': 'Normalized confusion matrix'}, xlabel='Predicted label', ylabel='True label'>"
            ]
          },
          "execution_count": 100,
          "metadata": {},
          "output_type": "execute_result"
        },
        {
          "data": {
            "image/png": "[encoded data removed]",
            "text/plain": [
              "<Figure size 800x800 with 2 Axes>"
            ]
          },
          "metadata": {},
          "output_type": "display_data"
        },
        {
          "metadata": {
            "tags": null
          },
          "name": "stdout",
          "output_type": "stream",
          "text": [
            "time: 757 ms (started: 2023-05-31 10:34:48 +00:00)\n"
          ]
        }
      ]
    },
    {
      "cell_type": "markdown",
      "metadata": {
        "id": "0uQhYyPumac6"
      },
      "source": [
        "It's better\n",
        "\n",
        "Ways to improve eve further:\n",
        "* Increase the number of trees\n",
        "* Increase the number of configurations to try out"
      ]
    },
    {
      "cell_type": "markdown",
      "source": [
        "## Isolation Forest"
      ],
      "metadata": {
        "id": "kwYTbLVb129a"
      }
    },
    {
      "cell_type": "code",
      "source": [
        "model = IsolationForest(n_estimators=500)\n",
        "model.fit(X_train)"
      ],
      "metadata": {
        "id": "xWWw0g7J1w5A"
      },
      "execution_count": null,
      "outputs": []
    },
    {
      "cell_type": "code",
      "source": [
        "anomaly_scores = 0.5 - model.decision_function(X_train)\n",
        "evaluate_anomaly_detector(y_train, anomaly_scores)"
      ],
      "metadata": {
        "id": "jSic152l12Tf"
      },
      "execution_count": null,
      "outputs": []
    }
  ]
}