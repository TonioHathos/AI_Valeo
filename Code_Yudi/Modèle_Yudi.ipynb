{
  "nbformat": 4,
  "nbformat_minor": 0,
  "metadata": {
    "colab": {
      "provenance": [],
      "authorship_tag": "ABX9TyPNYiYz6YHlafDqe780jaWe",
      "include_colab_link": true
    },
    "kernelspec": {
      "name": "python3",
      "display_name": "Python 3"
    },
    "language_info": {
      "name": "python"
    }
  },
  "cells": [
    {
      "cell_type": "markdown",
      "metadata": {
        "id": "view-in-github",
        "colab_type": "text"
      },
      "source": [
        "<a href=\"https://colab.research.google.com/github/TonioHathos/AI_Valeo/blob/main/Code_Yudi/Mod%C3%A8le_Yudi.ipynb\" target=\"_parent\"><img src=\"https://colab.research.google.com/assets/colab-badge.svg\" alt=\"Open In Colab\"/></a>"
      ]
    },
    {
      "cell_type": "code",
      "execution_count": 1,
      "metadata": {
        "id": "inluOyu8Yiv1",
        "colab": {
          "base_uri": "https://localhost:8080/"
        },
        "outputId": "4af5bd72-7a5c-4d5b-8b75-432d18c2d7ad"
      },
      "outputs": [
        {
          "output_type": "stream",
          "name": "stdout",
          "text": [
            "--2023-05-30 09:21:31--  https://raw.githubusercontent.com/andreaaraldo/machine-learning-for-networks/master/course_library/andrea_models.py\n",
            "Resolving raw.githubusercontent.com (raw.githubusercontent.com)... 185.199.108.133, 185.199.109.133, 185.199.110.133, ...\n",
            "Connecting to raw.githubusercontent.com (raw.githubusercontent.com)|185.199.108.133|:443... connected.\n",
            "HTTP request sent, awaiting response... 200 OK\n",
            "Length: 3190 (3.1K) [text/plain]\n",
            "Saving to: ‘andrea_models.py’\n",
            "\n",
            "\randrea_models.py      0%[                    ]       0  --.-KB/s               \randrea_models.py    100%[===================>]   3.12K  --.-KB/s    in 0s      \n",
            "\n",
            "2023-05-30 09:21:31 (57.6 MB/s) - ‘andrea_models.py’ saved [3190/3190]\n",
            "\n",
            "--2023-05-30 09:21:31--  https://raw.githubusercontent.com/andreaaraldo/machine-learning-for-networks/master/course_library/visualization.py\n",
            "Resolving raw.githubusercontent.com (raw.githubusercontent.com)... 185.199.108.133, 185.199.109.133, 185.199.110.133, ...\n",
            "Connecting to raw.githubusercontent.com (raw.githubusercontent.com)|185.199.108.133|:443... connected.\n",
            "HTTP request sent, awaiting response... 200 OK\n",
            "Length: 13023 (13K) [text/plain]\n",
            "Saving to: ‘visualization.py’\n",
            "\n",
            "visualization.py    100%[===================>]  12.72K  --.-KB/s    in 0s      \n",
            "\n",
            "2023-05-30 09:21:32 (45.3 MB/s) - ‘visualization.py’ saved [13023/13023]\n",
            "\n",
            "Looking in indexes: https://pypi.org/simple, https://us-python.pkg.dev/colab-wheels/public/simple/\n",
            "Collecting livelossplot\n",
            "  Downloading livelossplot-0.5.5-py3-none-any.whl (22 kB)\n",
            "Requirement already satisfied: matplotlib in /usr/local/lib/python3.10/dist-packages (from livelossplot) (3.7.1)\n",
            "Requirement already satisfied: bokeh in /usr/local/lib/python3.10/dist-packages (from livelossplot) (2.4.3)\n",
            "Requirement already satisfied: Jinja2>=2.9 in /usr/local/lib/python3.10/dist-packages (from bokeh->livelossplot) (3.1.2)\n",
            "Requirement already satisfied: numpy>=1.11.3 in /usr/local/lib/python3.10/dist-packages (from bokeh->livelossplot) (1.22.4)\n",
            "Requirement already satisfied: packaging>=16.8 in /usr/local/lib/python3.10/dist-packages (from bokeh->livelossplot) (23.1)\n",
            "Requirement already satisfied: pillow>=7.1.0 in /usr/local/lib/python3.10/dist-packages (from bokeh->livelossplot) (8.4.0)\n",
            "Requirement already satisfied: PyYAML>=3.10 in /usr/local/lib/python3.10/dist-packages (from bokeh->livelossplot) (6.0)\n",
            "Requirement already satisfied: tornado>=5.1 in /usr/local/lib/python3.10/dist-packages (from bokeh->livelossplot) (6.3.1)\n",
            "Requirement already satisfied: typing-extensions>=3.10.0 in /usr/local/lib/python3.10/dist-packages (from bokeh->livelossplot) (4.5.0)\n",
            "Requirement already satisfied: contourpy>=1.0.1 in /usr/local/lib/python3.10/dist-packages (from matplotlib->livelossplot) (1.0.7)\n",
            "Requirement already satisfied: cycler>=0.10 in /usr/local/lib/python3.10/dist-packages (from matplotlib->livelossplot) (0.11.0)\n",
            "Requirement already satisfied: fonttools>=4.22.0 in /usr/local/lib/python3.10/dist-packages (from matplotlib->livelossplot) (4.39.3)\n",
            "Requirement already satisfied: kiwisolver>=1.0.1 in /usr/local/lib/python3.10/dist-packages (from matplotlib->livelossplot) (1.4.4)\n",
            "Requirement already satisfied: pyparsing>=2.3.1 in /usr/local/lib/python3.10/dist-packages (from matplotlib->livelossplot) (3.0.9)\n",
            "Requirement already satisfied: python-dateutil>=2.7 in /usr/local/lib/python3.10/dist-packages (from matplotlib->livelossplot) (2.8.2)\n",
            "Requirement already satisfied: MarkupSafe>=2.0 in /usr/local/lib/python3.10/dist-packages (from Jinja2>=2.9->bokeh->livelossplot) (2.1.2)\n",
            "Requirement already satisfied: six>=1.5 in /usr/local/lib/python3.10/dist-packages (from python-dateutil>=2.7->matplotlib->livelossplot) (1.16.0)\n",
            "Installing collected packages: livelossplot\n",
            "Successfully installed livelossplot-0.5.5\n",
            "Looking in indexes: https://pypi.org/simple, https://us-python.pkg.dev/colab-wheels/public/simple/\n",
            "Collecting ipython-autotime\n",
            "  Downloading ipython_autotime-0.3.1-py2.py3-none-any.whl (6.8 kB)\n",
            "Requirement already satisfied: ipython in /usr/local/lib/python3.10/dist-packages (from ipython-autotime) (7.34.0)\n",
            "Requirement already satisfied: setuptools>=18.5 in /usr/local/lib/python3.10/dist-packages (from ipython->ipython-autotime) (67.7.2)\n",
            "Collecting jedi>=0.16 (from ipython->ipython-autotime)\n",
            "  Downloading jedi-0.18.2-py2.py3-none-any.whl (1.6 MB)\n",
            "\u001b[2K     \u001b[90m━━━━━━━━━━━━━━━━━━━━━━━━━━━━━━━━━━━━━━━━\u001b[0m \u001b[32m1.6/1.6 MB\u001b[0m \u001b[31m53.9 MB/s\u001b[0m eta \u001b[36m0:00:00\u001b[0m\n",
            "\u001b[?25hRequirement already satisfied: decorator in /usr/local/lib/python3.10/dist-packages (from ipython->ipython-autotime) (4.4.2)\n",
            "Requirement already satisfied: pickleshare in /usr/local/lib/python3.10/dist-packages (from ipython->ipython-autotime) (0.7.5)\n",
            "Requirement already satisfied: traitlets>=4.2 in /usr/local/lib/python3.10/dist-packages (from ipython->ipython-autotime) (5.7.1)\n",
            "Requirement already satisfied: prompt-toolkit!=3.0.0,!=3.0.1,<3.1.0,>=2.0.0 in /usr/local/lib/python3.10/dist-packages (from ipython->ipython-autotime) (3.0.38)\n",
            "Requirement already satisfied: pygments in /usr/local/lib/python3.10/dist-packages (from ipython->ipython-autotime) (2.14.0)\n",
            "Requirement already satisfied: backcall in /usr/local/lib/python3.10/dist-packages (from ipython->ipython-autotime) (0.2.0)\n",
            "Requirement already satisfied: matplotlib-inline in /usr/local/lib/python3.10/dist-packages (from ipython->ipython-autotime) (0.1.6)\n",
            "Requirement already satisfied: pexpect>4.3 in /usr/local/lib/python3.10/dist-packages (from ipython->ipython-autotime) (4.8.0)\n",
            "Requirement already satisfied: parso<0.9.0,>=0.8.0 in /usr/local/lib/python3.10/dist-packages (from jedi>=0.16->ipython->ipython-autotime) (0.8.3)\n",
            "Requirement already satisfied: ptyprocess>=0.5 in /usr/local/lib/python3.10/dist-packages (from pexpect>4.3->ipython->ipython-autotime) (0.7.0)\n",
            "Requirement already satisfied: wcwidth in /usr/local/lib/python3.10/dist-packages (from prompt-toolkit!=3.0.0,!=3.0.1,<3.1.0,>=2.0.0->ipython->ipython-autotime) (0.2.6)\n",
            "Installing collected packages: jedi, ipython-autotime\n",
            "Successfully installed ipython-autotime-0.3.1 jedi-0.18.2\n",
            "time: 404 µs (started: 2023-05-30 09:22:02 +00:00)\n"
          ]
        }
      ],
      "source": [
        "\n",
        "import pandas as pd\n",
        "import numpy as np\n",
        "import matplotlib.pyplot as plt\n",
        "import random\n",
        "\n",
        "from sklearn.model_selection import GridSearchCV\n",
        "from sklearn.metrics import average_precision_score, precision_score, \\\n",
        "                        recall_score, precision_recall_curve, roc_curve, \\\n",
        "                        roc_auc_score\n",
        "from sklearn.model_selection import train_test_split\n",
        "from sklearn.utils import shuffle\n",
        "from sklearn.preprocessing import StandardScaler\n",
        "\n",
        "\n",
        "\n",
        "# I prepared these libraries for you\n",
        "! wget https://raw.githubusercontent.com/andreaaraldo/machine-learning-for-networks/master/course_library/andrea_models.py\n",
        "! wget https://raw.githubusercontent.com/andreaaraldo/machine-learning-for-networks/master/course_library/visualization.py\n",
        "from andrea_models import subsample\n",
        "from visualization import silhouette_diagram, plot_conf_mat, \\\n",
        "                      false_positive_rate, evaluate_anomaly_detector\n",
        "\n",
        "import tensorflow as tf\n",
        "import tensorflow.keras as keras\n",
        "from tensorflow.keras.layers import Dense\n",
        "from tensorflow.keras.models import Sequential, load_model\n",
        "from tensorflow.keras.utils import plot_model\n",
        "from tensorflow.keras.callbacks import ModelCheckpoint, CSVLogger, TensorBoard\n",
        "\n",
        "\n",
        "\n",
        "# The following is to be able to mount Google Drive\n",
        "from google.colab import drive\n",
        "\n",
        "import os\n",
        "from os.path import isfile\n",
        "import datetime\n",
        "import shutil\n",
        "from functools import partial, partialmethod\n",
        "\n",
        "\n",
        "\n",
        "# The following library is to plot the loss during training\n",
        "# https://github.com/stared/livelossplot\n",
        "! pip install livelossplot\n",
        "from livelossplot import PlotLossesKerasTF\n",
        "\n",
        "\n",
        "# To show time at each cell\n",
        "# Credits to https://medium.com/@arptoth/how-to-measure-execution-time-in-google-colab-707cc9aad1c8\n",
        "!pip install ipython-autotime \n",
        "%load_ext autotime"
      ]
    },
    {
      "cell_type": "markdown",
      "source": [
        "#PreProcessing"
      ],
      "metadata": {
        "id": "ROJkYT-pj3e9"
      }
    },
    {
      "cell_type": "code",
      "source": [
        "! rm -f *.csv\n",
        "! wget https://raw.githubusercontent.com/TonioHathos/AI_Valeo/master/df_training_mod.csv\n",
        "df_training_mod = pd.read_csv('df_training_mod.csv')"
      ],
      "metadata": {
        "colab": {
          "base_uri": "https://localhost:8080/"
        },
        "id": "2mt7pSUlj1Ed",
        "outputId": "b621f5d8-4945-4445-a163-51f5fc085751"
      },
      "execution_count": 2,
      "outputs": [
        {
          "output_type": "stream",
          "name": "stdout",
          "text": [
            "--2023-05-30 09:22:02--  https://raw.githubusercontent.com/TonioHathos/AI_Valeo/master/df_training_mod.csv\n",
            "Resolving raw.githubusercontent.com (raw.githubusercontent.com)... 185.199.110.133, 185.199.111.133, 185.199.109.133, ...\n",
            "Connecting to raw.githubusercontent.com (raw.githubusercontent.com)|185.199.110.133|:443... connected.\n",
            "HTTP request sent, awaiting response... 200 OK\n",
            "Length: 2666373 (2.5M) [text/plain]\n",
            "Saving to: ‘df_training_mod.csv’\n",
            "\n",
            "df_training_mod.csv 100%[===================>]   2.54M  --.-KB/s    in 0.02s   \n",
            "\n",
            "2023-05-30 09:22:02 (169 MB/s) - ‘df_training_mod.csv’ saved [2666373/2666373]\n",
            "\n",
            "time: 586 ms (started: 2023-05-30 09:22:02 +00:00)\n"
          ]
        }
      ]
    },
    {
      "cell_type": "code",
      "source": [
        "df_training_mod.columns"
      ],
      "metadata": {
        "colab": {
          "base_uri": "https://localhost:8080/"
        },
        "id": "z0RcdjFwkaDJ",
        "outputId": "b931e3cf-e128-4541-e067-7b11def30dad"
      },
      "execution_count": 3,
      "outputs": [
        {
          "output_type": "execute_result",
          "data": {
            "text/plain": [
              "Index(['Unnamed: 0', 'OP070_V_1_angle_value', 'OP090_SnapRingPeakForce_value',\n",
              "       'OP070_V_2_angle_value', 'OP120_Rodage_I_mesure_value',\n",
              "       'OP090_SnapRingFinalStroke_value', 'OP110_Vissage_M8_torque_value',\n",
              "       'OP100_Capuchon_insertion_mesure', 'OP120_Rodage_U_mesure_value',\n",
              "       'OP090_StartLinePeakForce_value', 'OP110_Vissage_M8_angle_value',\n",
              "       'OP090_SnapRingMidPointForce_val', 'OP070_V_2_torque_value',\n",
              "       'Binar OP130_Resultat_Global_v'],\n",
              "      dtype='object')"
            ]
          },
          "metadata": {},
          "execution_count": 3
        },
        {
          "output_type": "stream",
          "name": "stdout",
          "text": [
            "time: 5.11 ms (started: 2023-05-30 09:22:02 +00:00)\n"
          ]
        }
      ]
    },
    {
      "cell_type": "code",
      "source": [
        "df_train, df_test = train_test_split(df_training_mod, test_size=0.3, random_state=19)\n",
        "df_test.head()\n",
        "\n",
        "print('Training samples ', df_train.shape[0], '; Test samples ', df_test.shape[0])\n"
      ],
      "metadata": {
        "colab": {
          "base_uri": "https://localhost:8080/"
        },
        "id": "vs6QhCrUkcvK",
        "outputId": "196a48d9-7c50-4c0b-ed39-5317c27106a4"
      },
      "execution_count": 4,
      "outputs": [
        {
          "output_type": "stream",
          "name": "stdout",
          "text": [
            "Training samples  24160 ; Test samples  10355\n",
            "time: 51.8 ms (started: 2023-05-30 09:22:02 +00:00)\n"
          ]
        }
      ]
    },
    {
      "cell_type": "code",
      "source": [
        "columns = ['OP070_V_1_angle_value', 'OP090_SnapRingPeakForce_value',\n",
        "       'OP070_V_2_angle_value', 'OP120_Rodage_I_mesure_value',\n",
        "       'OP090_SnapRingFinalStroke_value', 'OP110_Vissage_M8_torque_value',\n",
        "       'OP100_Capuchon_insertion_mesure', 'OP120_Rodage_U_mesure_value',\n",
        "       'OP090_StartLinePeakForce_value', 'OP110_Vissage_M8_angle_value',\n",
        "       'OP090_SnapRingMidPointForce_val', 'OP070_V_2_torque_value']"
      ],
      "metadata": {
        "id": "5T8O7clFlf3m",
        "outputId": "85dd2c8c-7f65-4c16-c31b-1b95695fba3f",
        "colab": {
          "base_uri": "https://localhost:8080/"
        }
      },
      "execution_count": 5,
      "outputs": [
        {
          "output_type": "stream",
          "name": "stdout",
          "text": [
            "time: 1.65 ms (started: 2023-05-30 09:22:02 +00:00)\n"
          ]
        }
      ]
    },
    {
      "cell_type": "code",
      "source": [
        "X_train = df_train[columns]\n",
        "X_test = df_test[columns]\n",
        "\n",
        "y_train = df_train['Binar OP130_Resultat_Global_v']\n",
        "y_test = df_test['Binar OP130_Resultat_Global_v']"
      ],
      "metadata": {
        "id": "FDZ75Vv9lfTF",
        "outputId": "86d1bfdd-ddeb-491f-8bf8-0e4ab1121a2a",
        "colab": {
          "base_uri": "https://localhost:8080/"
        }
      },
      "execution_count": 6,
      "outputs": [
        {
          "output_type": "stream",
          "name": "stdout",
          "text": [
            "time: 22.7 ms (started: 2023-05-30 09:22:02 +00:00)\n"
          ]
        }
      ]
    },
    {
      "cell_type": "code",
      "source": [
        "scaler = StandardScaler()\n",
        "X_tr_scaled = scaler.fit_transform(X_train)"
      ],
      "metadata": {
        "id": "OEMNy1PLlOOi",
        "outputId": "404420df-c012-4232-9f4e-88f9f9c97317",
        "colab": {
          "base_uri": "https://localhost:8080/"
        }
      },
      "execution_count": 7,
      "outputs": [
        {
          "output_type": "stream",
          "name": "stdout",
          "text": [
            "time: 34.4 ms (started: 2023-05-30 09:22:02 +00:00)\n"
          ]
        }
      ]
    },
    {
      "cell_type": "code",
      "source": [
        "n_features = X_tr_scaled.shape[1]\n",
        "print(\"The number of features is \", n_features)"
      ],
      "metadata": {
        "id": "xQPOwwVzlsPx",
        "outputId": "e10e7b66-69cb-45a1-abd0-feb96a040539",
        "colab": {
          "base_uri": "https://localhost:8080/"
        }
      },
      "execution_count": 8,
      "outputs": [
        {
          "output_type": "stream",
          "name": "stdout",
          "text": [
            "The number of features is  12\n",
            "time: 2.69 ms (started: 2023-05-30 09:22:02 +00:00)\n"
          ]
        }
      ]
    },
    {
      "cell_type": "markdown",
      "source": [
        "#Value Counting"
      ],
      "metadata": {
        "id": "jAB0GGabIfal"
      }
    },
    {
      "cell_type": "code",
      "source": [
        "y_train.value_counts()"
      ],
      "metadata": {
        "id": "DAhvQjBWIh1a",
        "outputId": "2fe5420a-e1ab-458f-f04e-b5a80b11fc26",
        "colab": {
          "base_uri": "https://localhost:8080/"
        }
      },
      "execution_count": 20,
      "outputs": [
        {
          "output_type": "execute_result",
          "data": {
            "text/plain": [
              "0    23934\n",
              "1      226\n",
              "Name: Binar OP130_Resultat_Global_v, dtype: int64"
            ]
          },
          "metadata": {},
          "execution_count": 20
        },
        {
          "output_type": "stream",
          "name": "stdout",
          "text": [
            "time: 12.4 ms (started: 2023-05-30 10:09:10 +00:00)\n"
          ]
        }
      ]
    },
    {
      "cell_type": "code",
      "source": [
        "y_test.value_counts()"
      ],
      "metadata": {
        "id": "LlM2goC-Ii9O",
        "outputId": "98c6a5b4-84fa-4275-dea1-fb02dd9ec1d4",
        "colab": {
          "base_uri": "https://localhost:8080/"
        }
      },
      "execution_count": 22,
      "outputs": [
        {
          "output_type": "execute_result",
          "data": {
            "text/plain": [
              "0    10276\n",
              "1       79\n",
              "Name: Binar OP130_Resultat_Global_v, dtype: int64"
            ]
          },
          "metadata": {},
          "execution_count": 22
        },
        {
          "output_type": "stream",
          "name": "stdout",
          "text": [
            "time: 14 ms (started: 2023-05-30 10:09:26 +00:00)\n"
          ]
        }
      ]
    },
    {
      "cell_type": "markdown",
      "source": [
        "Lets balance the dataset"
      ],
      "metadata": {
        "id": "dQ_rcV6tIm3E"
      }
    },
    {
      "cell_type": "code",
      "source": [
        "from imblearn.over_sampling import SMOTE\n",
        "\n",
        "smote = SMOTE()\n",
        "\n",
        "X_train_balanced, y_train_balanced = smote.fit_resample(X_train, y_train)\n",
        "pd.value_counts(y_train_balanced)"
      ],
      "metadata": {
        "id": "VF0-hCYVImeV",
        "outputId": "9e59ef15-dcab-46fa-ae32-19ceb1e722c7",
        "colab": {
          "base_uri": "https://localhost:8080/"
        }
      },
      "execution_count": 24,
      "outputs": [
        {
          "output_type": "execute_result",
          "data": {
            "text/plain": [
              "0    23934\n",
              "1    23934\n",
              "Name: Binar OP130_Resultat_Global_v, dtype: int64"
            ]
          },
          "metadata": {},
          "execution_count": 24
        },
        {
          "output_type": "stream",
          "name": "stdout",
          "text": [
            "time: 11.9 s (started: 2023-05-30 10:10:08 +00:00)\n"
          ]
        }
      ]
    },
    {
      "cell_type": "markdown",
      "source": [
        "# Neural Network"
      ],
      "metadata": {
        "id": "yy8AcrbOlxAw"
      }
    },
    {
      "cell_type": "code",
      "source": [
        "def make_sequential_model(sample_size, layer_sizes, \n",
        "                          hidden_activation_function=\"relu\", \n",
        "                          out_activation_function=\"softmax\",\n",
        "                          loss_fun=\"categorical_crossentropy\",\n",
        "                          learning_rate=0.01,\n",
        "                          regularization_coeff=0,\n",
        "                          metrics=['accuracy']):\n",
        "  \"\"\"\n",
        "  Makes a sequential model.\n",
        "  Parameters\n",
        "  -------------------------\n",
        "  sample_size: integer\n",
        "    The number of features of the samples\n",
        "\n",
        "  layer_sizes: list\n",
        "    List of the size of the neural network layers. For instance, if\n",
        "    layer_sizes = [8, 6, 4], the 1st layer will have 5 neurons, the 2nd 6 etc.\n",
        "    Attention: the size of the last layer (the output layer) is not arbitrary.\n",
        "    In case of monodimensional regression, it must be 1.\n",
        "    When using categorical_crossentropy, it must be the same as the number of \n",
        "    categories.\n",
        "    When using binary_crossentropy, it must be 1.\n",
        "\n",
        "  inner_activation_function: string\n",
        "    Activation function used in all layers, except the last one.\n",
        "    Ex: \"relu\"\n",
        "\n",
        "  out_activation_function: string\n",
        "    Activation function of the last layer.\n",
        "    Ex. \"softmax\"\n",
        "\n",
        "  loss_fun: string\n",
        "    The loss function we want to minimize. Ex. categorical_crossentropy\n",
        "\n",
        "  learning_rate: float\n",
        "    Ex. 0.01\n",
        "\n",
        "  regularization_coeff: float\n",
        "    Coefficient of ridge regression\n",
        "    Ex. 0.01\n",
        "\n",
        "  metrics: list of strings\n",
        "    The metrics we want to show during training. Ex. ['accuracy']\n",
        "  \"\"\"\n",
        "\n",
        "  model = Sequential()\n",
        "\n",
        "\n",
        "  # In the next code we will use `partial`, which is a function of the ptyhon\n",
        "  # library functools, which allows to define a class, identical to another\n",
        "  # class but with some different default values.\n",
        "  # In our case we define MyDenseLayer equal to the standard keras class\n",
        "  # `Dense`, which implements a simple neural network layer, specifying \n",
        "  # two default values: one for the activation function, and another for the\n",
        "  # regularization\n",
        "\n",
        "  if (regularization_coeff==0):\n",
        "    # No regularization\n",
        "    MyDenseLayer = partial(Dense, activation=hidden_activation_function)\n",
        "  else:\n",
        "    MyDenseLayer = partial(Dense, activation=hidden_activation_function,\n",
        "                         kernel_regularizer=keras.regularizers.l2(regularization_coeff))\n",
        "\n",
        "  # Add the input layer\n",
        "  model.add( MyDenseLayer(layer_sizes[0], \n",
        "                  input_dim = sample_size) )\n",
        "  \n",
        "  # Add hidden layers\n",
        "  for i in range(1,len(layer_sizes)-1 ): # We iterate from the 2nd element to the penultimate\n",
        "    model.add( MyDenseLayer(layer_sizes[i]) )\n",
        "    \n",
        "  # Add output layer\n",
        "  model.add( Dense(layer_sizes[-1],\n",
        "                  activation = out_activation_function) )\n",
        "  \n",
        "\n",
        "  model.compile(loss=loss_fun, \n",
        "              optimizer=keras.optimizers.Adam(lr=learning_rate) ,\n",
        "              metrics=metrics)\n",
        "  \n",
        "  return model"
      ],
      "metadata": {
        "id": "hK3aw54Zlyfj",
        "outputId": "25696a8b-8cea-4107-9d91-1599dfd3307d",
        "colab": {
          "base_uri": "https://localhost:8080/"
        }
      },
      "execution_count": 9,
      "outputs": [
        {
          "output_type": "stream",
          "name": "stdout",
          "text": [
            "time: 11.6 ms (started: 2023-05-30 09:22:14 +00:00)\n"
          ]
        }
      ]
    },
    {
      "cell_type": "code",
      "source": [
        "def enforce_reproducibility(seed):\n",
        "  tf.keras.backend.clear_session()\n",
        "\n",
        "  # To know more: \n",
        "  #       https://machinelearningmastery.com/reproducible-results-neural-networks-keras/\n",
        "  random.seed(seed)\n",
        "  np.random.seed(random.randint(0,300000))\n",
        "  tf.random.set_seed(random.randint(0,300000))"
      ],
      "metadata": {
        "id": "wCxDG_Zn9zpv",
        "outputId": "4e724c78-2044-4d39-eefa-1f2fe6d0d60a",
        "colab": {
          "base_uri": "https://localhost:8080/"
        }
      },
      "execution_count": 10,
      "outputs": [
        {
          "output_type": "stream",
          "name": "stdout",
          "text": [
            "time: 3.08 ms (started: 2023-05-30 09:22:28 +00:00)\n"
          ]
        }
      ]
    },
    {
      "cell_type": "code",
      "source": [
        "def train_model(model, nn_file, X_tr, y_tr, seed, max_epochs=1000, \n",
        "                overwrite=True, validation_split=0.2, patience=10):\n",
        "  \"\"\"\n",
        "  model: neural network model\n",
        "            It must be a compiled neural network, e.g., a model issued by the\n",
        "            function make_sequential_model(..) defined before\n",
        "\n",
        "  nn_file:  string (name of a file)\n",
        "            This file will be used to store the weights of the trained neural\n",
        "            network. Such weights are automatically stored during training \n",
        "            (thanks to the ModelCheckpoint callback (see the implementation \n",
        "            code)), so that even if the code fails in the middle of training,\n",
        "            you can resume training without starting from scratch.\n",
        "            If the file already exists, before starting training, the weights\n",
        "            in such a file will be loaded, so that we do not start training from\n",
        "            scratch, but we start already from (hopefully) good weigths.\n",
        "  \n",
        "  overwrite: boolean\n",
        "            If true, the model will be built and trained from scratch, \n",
        "            indipendent of whether nn_file exists or not.\n",
        "\n",
        "  seed: integer\n",
        "\n",
        "  X_tr: matrix\n",
        "            Feature matrix of the training set\n",
        "\n",
        "  y_tr: matrix\n",
        "            True labels of the training set\n",
        "\n",
        "  max_epochs: integer\n",
        "            Training will stop after such number of epochs\n",
        "\n",
        "  validation_split: float (between 0 and 1)\n",
        "            Fraction of training dataset that will be used as validation\n",
        "\n",
        "  patience: integer\n",
        "            Training will stop if the validation loss does not improve after the \n",
        "            specified number of epochs\n",
        "  \"\"\"\n",
        "  \n",
        "  enforce_reproducibility(seed)\n",
        "\n",
        "\n",
        "  # Before starting training, Keras divides (X_tr, y_tr) into a training subset\n",
        "  # and a validation subset. During iterations, Keras will do backpropagation\n",
        "  # in order to minimize the loss on the trainins subset, but it will monitor \n",
        "  # and also plot the loss on the validation subset.\n",
        "  # However, Keras always takes the first part of (X_tr, y_tr) as training\n",
        "  # subset and the second part as validation subset. This can be bad, in case\n",
        "  # the dataset has been created with a certain order (for instance all the \n",
        "  # samples with a certain characteristic first, and then all the others), as\n",
        "  # we instead need to train the neural network on a representative subset of \n",
        "  # samples. For this reason, we first shuffle the dataset\n",
        "  X_train, y_train = shuffle(X_tr, y_tr, random_state=seed)\n",
        "\n",
        "\n",
        "  ##################\n",
        "  #### CALLBACKS ###\n",
        "  ##################\n",
        "  # These functions are called at every epoch\n",
        "  plot_cb = PlotLossesKerasTF()  # Plots the loss\n",
        "  checkpoint_cb = ModelCheckpoint(nn_file) # Stores weights\n",
        "  logger_cb = CSVLogger(nn_file+'.csv', append=True) # Stores history\n",
        "                # see https://theailearner.com/2019/07/23/keras-callbacks-csvlogger/\n",
        "\n",
        "\n",
        "  # To stop early if we already converged\n",
        "  # See pagg 315-16 of [Ge19]\n",
        "  early_stop_cb = tf.keras.callbacks.EarlyStopping(verbose=1,\n",
        "      monitor='val_loss',\n",
        "     patience=patience, restore_best_weights=True) \n",
        "\n",
        "\n",
        "  if overwrite==True:\n",
        "    try:\n",
        "      os.remove(nn_file)\n",
        "    except OSError:\n",
        "      pass\n",
        "\n",
        "    try:\n",
        "      os.remove(nn_file+'.csv')\n",
        "    except OSError:\n",
        "      pass\n",
        "\n",
        "  if isfile(nn_file):\n",
        "    print(\"Loading pre-existing model\")\n",
        "    model = load_model(nn_file)\n",
        "\n",
        "  history = model.fit(X_train, y_train, epochs=max_epochs, \n",
        "                      callbacks = [plot_cb, checkpoint_cb, logger_cb, early_stop_cb], \n",
        "                      validation_split=validation_split )\n",
        "\n",
        "  return history"
      ],
      "metadata": {
        "id": "kiElLAJe94Dk",
        "outputId": "e18bbc4f-ce30-4ad2-be91-9dba9ce2f175",
        "colab": {
          "base_uri": "https://localhost:8080/"
        }
      },
      "execution_count": 11,
      "outputs": [
        {
          "output_type": "stream",
          "name": "stdout",
          "text": [
            "time: 12.6 ms (started: 2023-05-30 09:22:38 +00:00)\n"
          ]
        }
      ]
    },
    {
      "cell_type": "markdown",
      "source": [
        "# AutoEncoder"
      ],
      "metadata": {
        "id": "gHeZ8ORREVJo"
      }
    },
    {
      "cell_type": "code",
      "source": [
        "mount_point = '/content/gdrive' # Always the same, don't change it\n",
        "drive.mount(mount_point, force_remount=True)\n",
        "drive_path = mount_point + '/My Drive/' # Always the same, don't change it"
      ],
      "metadata": {
        "id": "NAXMS0EAFoVS",
        "outputId": "8a72464a-c1ec-4ff0-97d4-9eb2455ebd31",
        "colab": {
          "base_uri": "https://localhost:8080/"
        }
      },
      "execution_count": 17,
      "outputs": [
        {
          "output_type": "stream",
          "name": "stdout",
          "text": [
            "Mounted at /content/gdrive\n",
            "time: 24.2 s (started: 2023-05-30 09:56:31 +00:00)\n"
          ]
        }
      ]
    },
    {
      "cell_type": "code",
      "source": [
        "my_path = drive_path + \\\n",
        "  'Apprentissage'"
      ],
      "metadata": {
        "id": "SyoyRw8OFv51",
        "outputId": "441c1504-f0fe-4a77-c07c-7eb17284282c",
        "colab": {
          "base_uri": "https://localhost:8080/"
        }
      },
      "execution_count": 18,
      "outputs": [
        {
          "output_type": "stream",
          "name": "stdout",
          "text": [
            "time: 664 µs (started: 2023-05-30 09:57:42 +00:00)\n"
          ]
        }
      ]
    },
    {
      "cell_type": "code",
      "source": [
        "first_architecture = [10, 5, 10, n_features]\n",
        "# The encoder is composed of the input layer, with one input per feature\n",
        "#    and a layer of 10 neurons\n",
        "# The latent representation is composed of one layer of 5 neurons\n",
        "# The decoder is composed of a layer of 10 neurons and the output layer\n",
        "#    \n"
      ],
      "metadata": {
        "id": "1fW2nYPxEXRA",
        "outputId": "35a74069-990d-4e49-f58f-541d29febd93",
        "colab": {
          "base_uri": "https://localhost:8080/"
        }
      },
      "execution_count": 12,
      "outputs": [
        {
          "output_type": "stream",
          "name": "stdout",
          "text": [
            "time: 873 µs (started: 2023-05-30 09:52:19 +00:00)\n"
          ]
        }
      ]
    },
    {
      "cell_type": "code",
      "source": [
        "make_autoencoder = partial(make_sequential_model, sample_size=n_features,\n",
        "                        hidden_activation_function='tanh',\n",
        "                      out_activation_function='tanh',\n",
        "                      loss_fun='mean_squared_error',\n",
        "                      metrics=[])"
      ],
      "metadata": {
        "id": "bUbuloUhEr_R",
        "outputId": "75574351-b9b4-4dff-fa0a-771ca78fe5e8",
        "colab": {
          "base_uri": "https://localhost:8080/"
        }
      },
      "execution_count": 13,
      "outputs": [
        {
          "output_type": "stream",
          "name": "stdout",
          "text": [
            "time: 926 µs (started: 2023-05-30 09:52:47 +00:00)\n"
          ]
        }
      ]
    },
    {
      "cell_type": "code",
      "source": [
        "model = make_autoencoder(layer_sizes=first_architecture)"
      ],
      "metadata": {
        "id": "ExMbHs9oEz9N",
        "outputId": "d9c156e6-66fd-4181-849b-0c286da322eb",
        "colab": {
          "base_uri": "https://localhost:8080/"
        }
      },
      "execution_count": 14,
      "outputs": [
        {
          "output_type": "stream",
          "name": "stderr",
          "text": [
            "WARNING:absl:`lr` is deprecated in Keras optimizer, please use `learning_rate` or use the legacy optimizer, e.g.,tf.keras.optimizers.legacy.Adam.\n"
          ]
        },
        {
          "output_type": "stream",
          "name": "stdout",
          "text": [
            "time: 661 ms (started: 2023-05-30 09:52:55 +00:00)\n"
          ]
        }
      ]
    },
    {
      "cell_type": "markdown",
      "source": [
        "First Training without SMOTE"
      ],
      "metadata": {
        "id": "wy5jr3DXI1I-"
      }
    },
    {
      "cell_type": "code",
      "source": [
        "nn_file = my_path + 'nn1.h5'\n",
        "\n",
        "history = train_model(model, nn_file, X_tr_scaled, X_tr_scaled, seed=5, \n",
        "                      max_epochs=200)"
      ],
      "metadata": {
        "id": "eR2s-JTSE318",
        "outputId": "5cf1138f-3ecf-45bd-d3e8-0a527c8f1f79",
        "colab": {
          "base_uri": "https://localhost:8080/",
          "height": 928
        }
      },
      "execution_count": 19,
      "outputs": [
        {
          "output_type": "display_data",
          "data": {
            "text/plain": [
              "<Figure size 1200x800 with 2 Axes>"
            ],
            "image/png": "[encoded data removed]"
          },
          "metadata": {}
        },
        {
          "output_type": "stream",
          "name": "stdout",
          "text": [
            "Loss\n",
            "\ttraining         \t (min:    0.317, max:    0.665, cur:    0.317)\n",
            "\tvalidation       \t (min:    0.290, max:    0.481, cur:    0.290)\n",
            "Restoring model weights from the end of the best epoch: 172.\n",
            "604/604 [==============================] - 3s 4ms/step - loss: 0.3165 - val_loss: 0.2897\n",
            "Epoch 182: early stopping\n",
            "time: 7min 7s (started: 2023-05-30 09:57:56 +00:00)\n"
          ]
        }
      ]
    },
    {
      "cell_type": "markdown",
      "source": [
        "Second train - Now with SMOTE function"
      ],
      "metadata": {
        "id": "XbenMXlcI59n"
      }
    },
    {
      "cell_type": "code",
      "source": [
        "nn_file = my_path + 'nn1_SMOTE1.h5'\n",
        "\n",
        "history = train_model(model, nn_file, X_tr_scaled, X_tr_scaled, seed=5, \n",
        "                      max_epochs=200)"
      ],
      "metadata": {
        "id": "gCqUd6LII9jG",
        "outputId": "a0fc199e-610a-4f36-c424-23c9542a5f7c",
        "colab": {
          "base_uri": "https://localhost:8080/",
          "height": 928
        }
      },
      "execution_count": 25,
      "outputs": [
        {
          "output_type": "display_data",
          "data": {
            "text/plain": [
              "<Figure size 1200x800 with 2 Axes>"
            ],
            "image/png": "[encoded data removed]"
          },
          "metadata": {}
        },
        {
          "output_type": "stream",
          "name": "stdout",
          "text": [
            "Loss\n",
            "\ttraining         \t (min:    0.316, max:    0.317, cur:    0.316)\n",
            "\tvalidation       \t (min:    0.289, max:    0.291, cur:    0.290)\n",
            "Restoring model weights from the end of the best epoch: 5.\n",
            "604/604 [==============================] - 2s 3ms/step - loss: 0.3164 - val_loss: 0.2899\n",
            "Epoch 15: early stopping\n",
            "time: 37.5 s (started: 2023-05-30 10:11:42 +00:00)\n"
          ]
        }
      ]
    },
    {
      "cell_type": "markdown",
      "source": [
        "Stop to early, lets try to low the learning rate"
      ],
      "metadata": {
        "id": "gWDHcHZ5JswG"
      }
    },
    {
      "cell_type": "code",
      "source": [
        "model = make_autoencoder(layer_sizes=first_architecture, learning_rate=0.001)\n",
        "nn_file = my_path + 'nn1_SMOTE1_oo1.h5'\n",
        "\n",
        "history = train_model(model, nn_file, X_tr_scaled, X_tr_scaled, seed=5, \n",
        "                      max_epochs=200)"
      ],
      "metadata": {
        "id": "OxPFL9zBJwp_",
        "outputId": "ff2fc461-9c58-4c30-c7b4-96058ec3d755",
        "colab": {
          "base_uri": "https://localhost:8080/",
          "height": 894
        }
      },
      "execution_count": 27,
      "outputs": [
        {
          "output_type": "display_data",
          "data": {
            "text/plain": [
              "<Figure size 1200x800 with 2 Axes>"
            ],
            "image/png": "[encoded data removed]"
          },
          "metadata": {}
        },
        {
          "output_type": "stream",
          "name": "stdout",
          "text": [
            "Loss\n",
            "\ttraining         \t (min:    0.325, max:    0.662, cur:    0.325)\n",
            "\tvalidation       \t (min:    0.299, max:    0.496, cur:    0.299)\n",
            "\b\b\b\b\b\b\b\b\b\b\b\b\b\b\b\b\b\b\b\b\b\b\b\b\b\b\b\b\b\b\b\b\b\b\b\b\b\b\b\b\b\b\b\b\b\b\b\b\b\b\b\b\b\b\b\b\b\b\b\b\b\b\b\b\b\r604/604 [==============================] - 3s 4ms/step - loss: 0.3251 - val_loss: 0.2990\n",
            "time: 8min 24s (started: 2023-05-30 10:15:40 +00:00)\n"
          ]
        }
      ]
    }
  ]
}