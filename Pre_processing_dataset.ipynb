{
  "nbformat": 4,
  "nbformat_minor": 0,
  "metadata": {
    "colab": {
      "provenance": [],
      "include_colab_link": true
    },
    "kernelspec": {
      "name": "python3",
      "display_name": "Python 3"
    },
    "language_info": {
      "name": "python"
    }
  },
  "cells": [
    {
      "cell_type": "markdown",
      "metadata": {
        "id": "view-in-github",
        "colab_type": "text"
      },
      "source": [
        "<a href=\"https://colab.research.google.com/github/TonioHathos/AI_Valeo/blob/main/Pre_processing_dataset.ipynb\" target=\"_parent\"><img src=\"https://colab.research.google.com/assets/colab-badge.svg\" alt=\"Open In Colab\"/></a>"
      ]
    },
    {
      "cell_type": "code",
      "execution_count": null,
      "metadata": {
        "id": "u7GH0u0V_lkb"
      },
      "outputs": [],
      "source": [
        "print(\"hello\")"
      ]
    },
    {
      "cell_type": "code",
      "source": [
        "import pandas as pd # For dataframes (tables)\n",
        "import numpy as np # For numerical operations\n",
        "import math \n",
        "import matplotlib.pyplot as plt # For plots\n",
        "import os # To import external python files\n",
        "import sys# To import external python files\n",
        "\n",
        "from pandas.plotting import scatter_matrix"
      ],
      "metadata": {
        "id": "AIbA7Kw3CL1o"
      },
      "execution_count": 1,
      "outputs": []
    },
    {
      "cell_type": "code",
      "source": [
        "! rm -f *.csv\n",
        "! wget https://raw.githubusercontent.com/TonioHathos/AI_Valeo/master/testinputs.csv\n",
        "! wget https://raw.githubusercontent.com/TonioHathos/AI_Valeo/master/traininginputs.csv\n",
        "! wget https://raw.githubusercontent.com/TonioHathos/AI_Valeo/master/trainingoutput.csv"
      ],
      "metadata": {
        "id": "ZhnnaMYwCMpY",
        "outputId": "58eb50ef-4a10-40b1-f2e9-276b7146aa67",
        "colab": {
          "base_uri": "https://localhost:8080/"
        }
      },
      "execution_count": 7,
      "outputs": [
        {
          "output_type": "stream",
          "name": "stdout",
          "text": [
            "--2023-05-14 16:16:52--  https://raw.githubusercontent.com/TonioHathos/AI_Valeo/master/testinputs.csv\n",
            "Resolving raw.githubusercontent.com (raw.githubusercontent.com)... 185.199.111.133, 185.199.108.133, 185.199.110.133, ...\n",
            "Connecting to raw.githubusercontent.com (raw.githubusercontent.com)|185.199.111.133|:443... connected.\n",
            "HTTP request sent, awaiting response... 200 OK\n",
            "Length: 795776 (777K) [text/plain]\n",
            "Saving to: ‘testinputs.csv’\n",
            "\n",
            "\rtestinputs.csv        0%[                    ]       0  --.-KB/s               \rtestinputs.csv      100%[===================>] 777.12K  --.-KB/s    in 0.02s   \n",
            "\n",
            "2023-05-14 16:16:53 (30.7 MB/s) - ‘testinputs.csv’ saved [795776/795776]\n",
            "\n",
            "--2023-05-14 16:16:53--  https://raw.githubusercontent.com/TonioHathos/AI_Valeo/master/traininginputs.csv\n",
            "Resolving raw.githubusercontent.com (raw.githubusercontent.com)... 185.199.108.133, 185.199.109.133, 185.199.110.133, ...\n",
            "Connecting to raw.githubusercontent.com (raw.githubusercontent.com)|185.199.108.133|:443... connected.\n",
            "HTTP request sent, awaiting response... 200 OK\n",
            "Length: 3432084 (3.3M) [text/plain]\n",
            "Saving to: ‘traininginputs.csv’\n",
            "\n",
            "traininginputs.csv  100%[===================>]   3.27M  --.-KB/s    in 0.04s   \n",
            "\n",
            "2023-05-14 16:16:53 (78.5 MB/s) - ‘traininginputs.csv’ saved [3432084/3432084]\n",
            "\n",
            "--2023-05-14 16:16:53--  https://raw.githubusercontent.com/TonioHathos/AI_Valeo/master/trainingoutput.csv\n",
            "Resolving raw.githubusercontent.com (raw.githubusercontent.com)... 185.199.108.133, 185.199.109.133, 185.199.110.133, ...\n",
            "Connecting to raw.githubusercontent.com (raw.githubusercontent.com)|185.199.108.133|:443... connected.\n",
            "HTTP request sent, awaiting response... 200 OK\n",
            "Length: 1000980 (978K) [text/plain]\n",
            "Saving to: ‘trainingoutput.csv’\n",
            "\n",
            "trainingoutput.csv  100%[===================>] 977.52K  --.-KB/s    in 0.03s   \n",
            "\n",
            "2023-05-14 16:16:53 (28.8 MB/s) - ‘trainingoutput.csv’ saved [1000980/1000980]\n",
            "\n"
          ]
        }
      ]
    }
  ]
}