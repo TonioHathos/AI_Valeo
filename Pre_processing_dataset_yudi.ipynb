{
  "nbformat": 4,
  "nbformat_minor": 0,
  "metadata": {
    "colab": {
      "provenance": [],
      "include_colab_link": true
    },
    "kernelspec": {
      "name": "python3",
      "display_name": "Python 3"
    },
    "language_info": {
      "name": "python"
    }
  },
  "cells": [
    {
      "cell_type": "markdown",
      "metadata": {
        "id": "view-in-github",
        "colab_type": "text"
      },
      "source": [
        "<a href=\"https://colab.research.google.com/github/TonioHathos/AI_Valeo/blob/main/Pre_processing_dataset_yudi.ipynb\" target=\"_parent\"><img src=\"https://colab.research.google.com/assets/colab-badge.svg\" alt=\"Open In Colab\"/></a>"
      ]
    },
    {
      "cell_type": "markdown",
      "source": [
        "Exploration des données\n"
      ],
      "metadata": {
        "id": "1Fap4KkES7-_"
      }
    },
    {
      "cell_type": "code",
      "execution_count": 1,
      "metadata": {
        "id": "u7GH0u0V_lkb"
      },
      "outputs": [],
      "source": [
        "import pandas as pd # For dataframes (tables)\n",
        "import numpy as np # For numerical operations\n",
        "import math \n",
        "import matplotlib.pyplot as plt # For plots\n",
        "import os # To import external python files\n",
        "import sys# To import external python files\n",
        "\n",
        "from pandas.plotting import scatter_matrix\n"
      ]
    },
    {
      "cell_type": "markdown",
      "source": [
        "Télechargement du dataset"
      ],
      "metadata": {
        "id": "_YLNcNmyTCiY"
      }
    },
    {
      "cell_type": "code",
      "source": [],
      "metadata": {
        "id": "gt-zzSm4TBpA"
      },
      "execution_count": null,
      "outputs": []
    }
  ]
}