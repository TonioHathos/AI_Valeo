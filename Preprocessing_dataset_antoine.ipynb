{
  "nbformat": 4,
  "nbformat_minor": 0,
  "metadata": {
    "colab": {
      "provenance": [],
      "authorship_tag": "ABX9TyOrjZ6cce9CJjL510R2qmjl",
      "include_colab_link": true
    },
    "kernelspec": {
      "name": "python3",
      "display_name": "Python 3"
    },
    "language_info": {
      "name": "python"
    }
  },
  "cells": [
    {
      "cell_type": "markdown",
      "metadata": {
        "id": "view-in-github",
        "colab_type": "text"
      },
      "source": [
        "<a href=\"https://colab.research.google.com/github/TonioHathos/AI_Valeo/blob/main/Preprocessing_dataset_antoine.ipynb\" target=\"_parent\"><img src=\"https://colab.research.google.com/assets/colab-badge.svg\" alt=\"Open In Colab\"/></a>"
      ]
    },
    {
      "cell_type": "markdown",
      "source": [
        "#Missing values"
      ],
      "metadata": {
        "id": "9eejT60GhpaL"
      }
    },
    {
      "cell_type": "markdown",
      "source": [
        "## Récupération datasets"
      ],
      "metadata": {
        "id": "tUs-d0v4fj4E"
      }
    },
    {
      "cell_type": "code",
      "execution_count": 1,
      "metadata": {
        "colab": {
          "base_uri": "https://localhost:8080/"
        },
        "id": "8yyqF1yQEeIF",
        "outputId": "08d7d34a-72bf-48bb-9029-d867822b7cef"
      },
      "outputs": [
        {
          "output_type": "stream",
          "name": "stdout",
          "text": [
            "Looking in indexes: https://pypi.org/simple, https://us-python.pkg.dev/colab-wheels/public/simple/\n",
            "Collecting category_encoders\n",
            "  Downloading category_encoders-2.6.0-py2.py3-none-any.whl (81 kB)\n",
            "\u001b[2K     \u001b[90m━━━━━━━━━━━━━━━━━━━━━━━━━━━━━━━━━━━━━━━━\u001b[0m \u001b[32m81.2/81.2 kB\u001b[0m \u001b[31m2.5 MB/s\u001b[0m eta \u001b[36m0:00:00\u001b[0m\n",
            "\u001b[?25hRequirement already satisfied: numpy>=1.14.0 in /usr/local/lib/python3.10/dist-packages (from category_encoders) (1.22.4)\n",
            "Requirement already satisfied: scikit-learn>=0.20.0 in /usr/local/lib/python3.10/dist-packages (from category_encoders) (1.2.2)\n",
            "Requirement already satisfied: scipy>=1.0.0 in /usr/local/lib/python3.10/dist-packages (from category_encoders) (1.10.1)\n",
            "Requirement already satisfied: statsmodels>=0.9.0 in /usr/local/lib/python3.10/dist-packages (from category_encoders) (0.13.5)\n",
            "Requirement already satisfied: pandas>=1.0.5 in /usr/local/lib/python3.10/dist-packages (from category_encoders) (1.5.3)\n",
            "Requirement already satisfied: patsy>=0.5.1 in /usr/local/lib/python3.10/dist-packages (from category_encoders) (0.5.3)\n",
            "Requirement already satisfied: python-dateutil>=2.8.1 in /usr/local/lib/python3.10/dist-packages (from pandas>=1.0.5->category_encoders) (2.8.2)\n",
            "Requirement already satisfied: pytz>=2020.1 in /usr/local/lib/python3.10/dist-packages (from pandas>=1.0.5->category_encoders) (2022.7.1)\n",
            "Requirement already satisfied: six in /usr/local/lib/python3.10/dist-packages (from patsy>=0.5.1->category_encoders) (1.16.0)\n",
            "Requirement already satisfied: joblib>=1.1.1 in /usr/local/lib/python3.10/dist-packages (from scikit-learn>=0.20.0->category_encoders) (1.2.0)\n",
            "Requirement already satisfied: threadpoolctl>=2.0.0 in /usr/local/lib/python3.10/dist-packages (from scikit-learn>=0.20.0->category_encoders) (3.1.0)\n",
            "Requirement already satisfied: packaging>=21.3 in /usr/local/lib/python3.10/dist-packages (from statsmodels>=0.9.0->category_encoders) (23.1)\n",
            "Installing collected packages: category_encoders\n",
            "Successfully installed category_encoders-2.6.0\n"
          ]
        }
      ],
      "source": [
        "import pandas as pd\n",
        "import missingno as msno\n",
        "from sklearn.model_selection import train_test_split\n",
        "import numpy as np\n",
        "\n",
        "!pip install category_encoders\n",
        "import category_encoders as ce"
      ]
    },
    {
      "cell_type": "code",
      "source": [
        "! wget https://raw.githubusercontent.com/TonioHathos/AI_Valeo/master/testinputs.csv\n",
        "! wget https://raw.githubusercontent.com/TonioHathos/AI_Valeo/master/traininginputs.csv\n",
        "! wget https://raw.githubusercontent.com/TonioHathos/AI_Valeo/master/trainingoutput.csv\n",
        "     "
      ],
      "metadata": {
        "colab": {
          "base_uri": "https://localhost:8080/"
        },
        "id": "eqMcDTZIgWxr",
        "outputId": "fee712b1-4855-4b87-81b1-017a21541517"
      },
      "execution_count": 2,
      "outputs": [
        {
          "output_type": "stream",
          "name": "stdout",
          "text": [
            "--2023-05-14 23:06:04--  https://raw.githubusercontent.com/TonioHathos/AI_Valeo/master/testinputs.csv\n",
            "Resolving raw.githubusercontent.com (raw.githubusercontent.com)... 185.199.108.133, 185.199.109.133, 185.199.110.133, ...\n",
            "Connecting to raw.githubusercontent.com (raw.githubusercontent.com)|185.199.108.133|:443... connected.\n",
            "HTTP request sent, awaiting response... 200 OK\n",
            "Length: 795776 (777K) [text/plain]\n",
            "Saving to: ‘testinputs.csv’\n",
            "\n",
            "\rtestinputs.csv        0%[                    ]       0  --.-KB/s               \rtestinputs.csv      100%[===================>] 777.12K  --.-KB/s    in 0.05s   \n",
            "\n",
            "2023-05-14 23:06:04 (16.5 MB/s) - ‘testinputs.csv’ saved [795776/795776]\n",
            "\n",
            "--2023-05-14 23:06:04--  https://raw.githubusercontent.com/TonioHathos/AI_Valeo/master/traininginputs.csv\n",
            "Resolving raw.githubusercontent.com (raw.githubusercontent.com)... 185.199.110.133, 185.199.108.133, 185.199.109.133, ...\n",
            "Connecting to raw.githubusercontent.com (raw.githubusercontent.com)|185.199.110.133|:443... connected.\n",
            "HTTP request sent, awaiting response... 200 OK\n",
            "Length: 3432084 (3.3M) [text/plain]\n",
            "Saving to: ‘traininginputs.csv’\n",
            "\n",
            "traininginputs.csv  100%[===================>]   3.27M  --.-KB/s    in 0.07s   \n",
            "\n",
            "2023-05-14 23:06:05 (46.5 MB/s) - ‘traininginputs.csv’ saved [3432084/3432084]\n",
            "\n",
            "--2023-05-14 23:06:05--  https://raw.githubusercontent.com/TonioHathos/AI_Valeo/master/trainingoutput.csv\n",
            "Resolving raw.githubusercontent.com (raw.githubusercontent.com)... 185.199.110.133, 185.199.109.133, 185.199.108.133, ...\n",
            "Connecting to raw.githubusercontent.com (raw.githubusercontent.com)|185.199.110.133|:443... connected.\n",
            "HTTP request sent, awaiting response... 200 OK\n",
            "Length: 1000980 (978K) [text/plain]\n",
            "Saving to: ‘trainingoutput.csv’\n",
            "\n",
            "trainingoutput.csv  100%[===================>] 977.52K  --.-KB/s    in 0.05s   \n",
            "\n",
            "2023-05-14 23:06:05 (20.5 MB/s) - ‘trainingoutput.csv’ saved [1000980/1000980]\n",
            "\n"
          ]
        }
      ]
    },
    {
      "cell_type": "code",
      "metadata": {
        "id": "dKpZOXte1BfP"
      },
      "source": [
        "\n",
        "\n",
        "df_test_inputs = pd.read_csv('testinputs.csv')\n",
        "df_training_inputs = pd.read_csv('traininginputs.csv')\n",
        "df_training_output = pd.read_csv('trainingoutput.csv')\n",
        "     \n"
      ],
      "execution_count": 3,
      "outputs": []
    },
    {
      "cell_type": "markdown",
      "source": [
        "# On détermine les colonnes qui ont des données manquantes\n"
      ],
      "metadata": {
        "id": "6ui3EqF8iFuB"
      }
    },
    {
      "cell_type": "code",
      "source": [
        "df_test_inputs.columns[df_test_inputs.isnull().any()].tolist()\n"
      ],
      "metadata": {
        "colab": {
          "base_uri": "https://localhost:8080/"
        },
        "id": "ZfFJHjqZiO1A",
        "outputId": "d83ef4e2-8c8a-4a10-aa9e-314b95358a04"
      },
      "execution_count": 5,
      "outputs": [
        {
          "output_type": "execute_result",
          "data": {
            "text/plain": [
              "['OP100_Capuchon_insertion_mesure']"
            ]
          },
          "metadata": {},
          "execution_count": 5
        }
      ]
    },
    {
      "cell_type": "code",
      "source": [
        "df_training_inputs.columns[df_training_inputs.isnull().any()].tolist()"
      ],
      "metadata": {
        "colab": {
          "base_uri": "https://localhost:8080/"
        },
        "id": "5dcHp6xWinHv",
        "outputId": "cdcf860a-e58d-4284-e222-1089b637f9b2"
      },
      "execution_count": 8,
      "outputs": [
        {
          "output_type": "execute_result",
          "data": {
            "text/plain": [
              "['OP100_Capuchon_insertion_mesure']"
            ]
          },
          "metadata": {},
          "execution_count": 8
        }
      ]
    },
    {
      "cell_type": "code",
      "source": [
        "df_training_output.columns[df_training_output.isnull().any()].tolist()"
      ],
      "metadata": {
        "colab": {
          "base_uri": "https://localhost:8080/"
        },
        "id": "B6IoGs-NirUj",
        "outputId": "4eaa744f-c741-47d3-ea97-4f2e3cfcf0f7"
      },
      "execution_count": 7,
      "outputs": [
        {
          "output_type": "execute_result",
          "data": {
            "text/plain": [
              "[]"
            ]
          },
          "metadata": {},
          "execution_count": 7
        }
      ]
    },
    {
      "cell_type": "code",
      "source": [
        "\n",
        "print(\"NaN of OP100_Capuchon_insertion_mesure in training = \", df_training_inputs['OP100_Capuchon_insertion_mesure'].isna().sum() )\n",
        "print(\"NaN of OP100_Capuchon_insertion_mesure in test = \", df_test_inputs['OP100_Capuchon_insertion_mesure'].isna().sum() )"
      ],
      "metadata": {
        "colab": {
          "base_uri": "https://localhost:8080/"
        },
        "id": "2dTsMCzDjGuC",
        "outputId": "be5b7931-d94d-40db-cf09-261bce792265"
      },
      "execution_count": 10,
      "outputs": [
        {
          "output_type": "stream",
          "name": "stdout",
          "text": [
            "NaN of OP100_Capuchon_insertion_mesure in training =  18627\n",
            "NaN of OP100_Capuchon_insertion_mesure in test =  4360\n"
          ]
        }
      ]
    }
  ]
}