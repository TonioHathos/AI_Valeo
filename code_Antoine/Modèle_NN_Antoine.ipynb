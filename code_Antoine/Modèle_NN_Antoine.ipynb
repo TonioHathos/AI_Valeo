{
  "nbformat": 4,
  "nbformat_minor": 0,
  "metadata": {
    "colab": {
      "provenance": [],
      "authorship_tag": "ABX9TyNB9RuFZr2Hh0GaYsY40O/T",
      "include_colab_link": true
    },
    "kernelspec": {
      "name": "python3",
      "display_name": "Python 3"
    },
    "language_info": {
      "name": "python"
    }
  },
  "cells": [
    {
      "cell_type": "markdown",
      "metadata": {
        "id": "view-in-github",
        "colab_type": "text"
      },
      "source": [
        "<a href=\"https://colab.research.google.com/github/TonioHathos/AI_Valeo/blob/main/code_Antoine/Mod%C3%A8le_NN_Antoine.ipynb\" target=\"_parent\"><img src=\"https://colab.research.google.com/assets/colab-badge.svg\" alt=\"Open In Colab\"/></a>"
      ]
    },
    {
      "cell_type": "code",
      "metadata": {
        "id": "wHY0Omw3e1eb",
        "colab": {
          "base_uri": "https://localhost:8080/"
        },
        "outputId": "fdd8314f-48a9-4d3b-dd17-92483769feb5"
      },
      "source": [
        "import pandas as pd\n",
        "import numpy as np\n",
        "import matplotlib.pyplot as plt\n",
        "from collections import Counter\n",
        "\n",
        "from imblearn.over_sampling import SMOTE\n",
        "\n",
        "from sklearn.preprocessing import MinMaxScaler, StandardScaler\n",
        "from sklearn.utils import shuffle\n",
        "from sklearn.model_selection import train_test_split\n",
        "from sklearn.utils.multiclass import unique_labels\n",
        "from sklearn.metrics import classification_report\n",
        "\n",
        "import tensorflow as tf\n",
        "import tensorflow.keras as keras\n",
        "from tensorflow.keras.layers import Dense\n",
        "from tensorflow.keras.models import Sequential, load_model\n",
        "from tensorflow.keras.utils import plot_model\n",
        "from tensorflow.keras.callbacks import ModelCheckpoint, CSVLogger\n",
        "import random\n",
        "\n",
        "\n",
        "\n",
        "!pip install category_encoders\n",
        "import category_encoders as ce\n",
        "\n",
        "\n",
        "\n",
        "\n",
        "# The following library is to plot the loss during training\n",
        "# https://github.com/stared/livelossplot\n",
        "! pip install livelossplot\n",
        "from livelossplot import PlotLossesKerasTF\n",
        "\n",
        "\n",
        "# Import the visualization library I prepared for you\n",
        "! wget https://raw.githubusercontent.com/andreaaraldo/machine-learning-for-networks/master/course_library/visualization.py\n",
        "from visualization import plot_conf_mat\n",
        "\n",
        "\n",
        "# The following is to be able to mount Google Drive\n",
        "from google.colab import drive\n",
        "\n",
        "import os\n",
        "from os.path import isfile\n",
        "\n",
        "from functools import partial"
      ],
      "execution_count": 39,
      "outputs": [
        {
          "output_type": "stream",
          "name": "stdout",
          "text": [
            "Looking in indexes: https://pypi.org/simple, https://us-python.pkg.dev/colab-wheels/public/simple/\n",
            "Requirement already satisfied: category_encoders in /usr/local/lib/python3.10/dist-packages (2.6.1)\n",
            "Requirement already satisfied: numpy>=1.14.0 in /usr/local/lib/python3.10/dist-packages (from category_encoders) (1.22.4)\n",
            "Requirement already satisfied: scikit-learn>=0.20.0 in /usr/local/lib/python3.10/dist-packages (from category_encoders) (1.2.2)\n",
            "Requirement already satisfied: scipy>=1.0.0 in /usr/local/lib/python3.10/dist-packages (from category_encoders) (1.10.1)\n",
            "Requirement already satisfied: statsmodels>=0.9.0 in /usr/local/lib/python3.10/dist-packages (from category_encoders) (0.13.5)\n",
            "Requirement already satisfied: pandas>=1.0.5 in /usr/local/lib/python3.10/dist-packages (from category_encoders) (1.5.3)\n",
            "Requirement already satisfied: patsy>=0.5.1 in /usr/local/lib/python3.10/dist-packages (from category_encoders) (0.5.3)\n",
            "Requirement already satisfied: python-dateutil>=2.8.1 in /usr/local/lib/python3.10/dist-packages (from pandas>=1.0.5->category_encoders) (2.8.2)\n",
            "Requirement already satisfied: pytz>=2020.1 in /usr/local/lib/python3.10/dist-packages (from pandas>=1.0.5->category_encoders) (2022.7.1)\n",
            "Requirement already satisfied: six in /usr/local/lib/python3.10/dist-packages (from patsy>=0.5.1->category_encoders) (1.16.0)\n",
            "Requirement already satisfied: joblib>=1.1.1 in /usr/local/lib/python3.10/dist-packages (from scikit-learn>=0.20.0->category_encoders) (1.2.0)\n",
            "Requirement already satisfied: threadpoolctl>=2.0.0 in /usr/local/lib/python3.10/dist-packages (from scikit-learn>=0.20.0->category_encoders) (3.1.0)\n",
            "Requirement already satisfied: packaging>=21.3 in /usr/local/lib/python3.10/dist-packages (from statsmodels>=0.9.0->category_encoders) (23.1)\n",
            "Looking in indexes: https://pypi.org/simple, https://us-python.pkg.dev/colab-wheels/public/simple/\n",
            "Requirement already satisfied: livelossplot in /usr/local/lib/python3.10/dist-packages (0.5.5)\n",
            "Requirement already satisfied: matplotlib in /usr/local/lib/python3.10/dist-packages (from livelossplot) (3.7.1)\n",
            "Requirement already satisfied: bokeh in /usr/local/lib/python3.10/dist-packages (from livelossplot) (2.4.3)\n",
            "Requirement already satisfied: Jinja2>=2.9 in /usr/local/lib/python3.10/dist-packages (from bokeh->livelossplot) (3.1.2)\n",
            "Requirement already satisfied: numpy>=1.11.3 in /usr/local/lib/python3.10/dist-packages (from bokeh->livelossplot) (1.22.4)\n",
            "Requirement already satisfied: packaging>=16.8 in /usr/local/lib/python3.10/dist-packages (from bokeh->livelossplot) (23.1)\n",
            "Requirement already satisfied: pillow>=7.1.0 in /usr/local/lib/python3.10/dist-packages (from bokeh->livelossplot) (8.4.0)\n",
            "Requirement already satisfied: PyYAML>=3.10 in /usr/local/lib/python3.10/dist-packages (from bokeh->livelossplot) (6.0)\n",
            "Requirement already satisfied: tornado>=5.1 in /usr/local/lib/python3.10/dist-packages (from bokeh->livelossplot) (6.3.1)\n",
            "Requirement already satisfied: typing-extensions>=3.10.0 in /usr/local/lib/python3.10/dist-packages (from bokeh->livelossplot) (4.5.0)\n",
            "Requirement already satisfied: contourpy>=1.0.1 in /usr/local/lib/python3.10/dist-packages (from matplotlib->livelossplot) (1.0.7)\n",
            "Requirement already satisfied: cycler>=0.10 in /usr/local/lib/python3.10/dist-packages (from matplotlib->livelossplot) (0.11.0)\n",
            "Requirement already satisfied: fonttools>=4.22.0 in /usr/local/lib/python3.10/dist-packages (from matplotlib->livelossplot) (4.39.3)\n",
            "Requirement already satisfied: kiwisolver>=1.0.1 in /usr/local/lib/python3.10/dist-packages (from matplotlib->livelossplot) (1.4.4)\n",
            "Requirement already satisfied: pyparsing>=2.3.1 in /usr/local/lib/python3.10/dist-packages (from matplotlib->livelossplot) (3.0.9)\n",
            "Requirement already satisfied: python-dateutil>=2.7 in /usr/local/lib/python3.10/dist-packages (from matplotlib->livelossplot) (2.8.2)\n",
            "Requirement already satisfied: MarkupSafe>=2.0 in /usr/local/lib/python3.10/dist-packages (from Jinja2>=2.9->bokeh->livelossplot) (2.1.2)\n",
            "Requirement already satisfied: six>=1.5 in /usr/local/lib/python3.10/dist-packages (from python-dateutil>=2.7->matplotlib->livelossplot) (1.16.0)\n",
            "--2023-05-24 20:49:57--  https://raw.githubusercontent.com/andreaaraldo/machine-learning-for-networks/master/course_library/visualization.py\n",
            "Resolving raw.githubusercontent.com (raw.githubusercontent.com)... 185.199.108.133, 185.199.109.133, 185.199.110.133, ...\n",
            "Connecting to raw.githubusercontent.com (raw.githubusercontent.com)|185.199.108.133|:443... connected.\n",
            "HTTP request sent, awaiting response... 200 OK\n",
            "Length: 13023 (13K) [text/plain]\n",
            "Saving to: ‘visualization.py.2’\n",
            "\n",
            "visualization.py.2  100%[===================>]  12.72K  --.-KB/s    in 0s      \n",
            "\n",
            "2023-05-24 20:49:58 (27.0 MB/s) - ‘visualization.py.2’ saved [13023/13023]\n",
            "\n"
          ]
        }
      ]
    },
    {
      "cell_type": "markdown",
      "metadata": {
        "id": "k6IQYJ3N_KSM"
      },
      "source": [
        "### Mount your Google Drive\n",
        "\n",
        "Training a neural network may take long time and you don't want to do it every time. Once you've trained a model, it is better to save it, so that you can use it immediately for prediction next times.\n",
        "\n",
        "Unfortunately, the storage on Google is reset every time. You need to store all persistent data in you Google Drive.\n",
        "\n",
        "You need therefore to mount your Google Drive, which you will use later in this notebook"
      ]
    },
    {
      "cell_type": "code",
      "metadata": {
        "id": "blP3nm_stBVH",
        "colab": {
          "base_uri": "https://localhost:8080/"
        },
        "outputId": "cb289cc2-16ac-439f-a5ed-aeff566a558b"
      },
      "source": [
        "mount_point = '/content/gdrive' # Always the same, don't change it\n",
        "drive.mount(mount_point, force_remount=True)\n",
        "drive_path = mount_point + '/My Drive/' # Always the same, don't change it\n",
        "\n",
        "# Replace the following folder with some folder inside your google drive\n",
        "my_path = drive_path + \\\n",
        "  'TSP/Apprentissage_automatique_réseau/'"
      ],
      "execution_count": 28,
      "outputs": [
        {
          "output_type": "stream",
          "name": "stdout",
          "text": [
            "Mounted at /content/gdrive\n"
          ]
        }
      ]
    },
    {
      "cell_type": "markdown",
      "source": [
        "## Récupérer dataset modifié"
      ],
      "metadata": {
        "id": "HM_vXlyUDurC"
      }
    },
    {
      "cell_type": "code",
      "source": [
        "! rm -f *.csv\n",
        "! wget https://raw.githubusercontent.com/TonioHathos/AI_Valeo/master/df_training_mod.csv\n",
        "df_training_mod = pd.read_csv('df_training_mod.csv')"
      ],
      "metadata": {
        "colab": {
          "base_uri": "https://localhost:8080/"
        },
        "id": "ZhnnaMYwCMpY",
        "outputId": "3e13674e-8b67-4c88-b567-50f5bf09cd8a"
      },
      "execution_count": 29,
      "outputs": [
        {
          "output_type": "stream",
          "name": "stdout",
          "text": [
            "--2023-05-24 20:40:34--  https://raw.githubusercontent.com/TonioHathos/AI_Valeo/master/df_training_mod.csv\n",
            "Resolving raw.githubusercontent.com (raw.githubusercontent.com)... 185.199.110.133, 185.199.109.133, 185.199.108.133, ...\n",
            "Connecting to raw.githubusercontent.com (raw.githubusercontent.com)|185.199.110.133|:443... connected.\n",
            "HTTP request sent, awaiting response... 200 OK\n",
            "Length: 2666373 (2.5M) [text/plain]\n",
            "Saving to: ‘df_training_mod.csv’\n",
            "\n",
            "df_training_mod.csv 100%[===================>]   2.54M  --.-KB/s    in 0.08s   \n",
            "\n",
            "2023-05-24 20:40:34 (31.9 MB/s) - ‘df_training_mod.csv’ saved [2666373/2666373]\n",
            "\n"
          ]
        }
      ]
    },
    {
      "cell_type": "code",
      "source": [
        "df_training_mod.columns"
      ],
      "metadata": {
        "colab": {
          "base_uri": "https://localhost:8080/"
        },
        "id": "iVHf97ImEliK",
        "outputId": "76681d5b-52f1-46b8-c479-ff9256276dea"
      },
      "execution_count": 30,
      "outputs": [
        {
          "output_type": "execute_result",
          "data": {
            "text/plain": [
              "Index(['Unnamed: 0', 'OP070_V_1_angle_value', 'OP090_SnapRingPeakForce_value',\n",
              "       'OP070_V_2_angle_value', 'OP120_Rodage_I_mesure_value',\n",
              "       'OP090_SnapRingFinalStroke_value', 'OP110_Vissage_M8_torque_value',\n",
              "       'OP100_Capuchon_insertion_mesure', 'OP120_Rodage_U_mesure_value',\n",
              "       'OP090_StartLinePeakForce_value', 'OP110_Vissage_M8_angle_value',\n",
              "       'OP090_SnapRingMidPointForce_val', 'OP070_V_2_torque_value',\n",
              "       'Binar OP130_Resultat_Global_v'],\n",
              "      dtype='object')"
            ]
          },
          "metadata": {},
          "execution_count": 30
        }
      ]
    },
    {
      "cell_type": "code",
      "source": [
        "df_training_mod.drop(columns=['Unnamed: 0'])"
      ],
      "metadata": {
        "id": "irVr6UNVcVsV",
        "outputId": "1e015fe5-3ac1-41f0-aee5-92430ac0b2e7",
        "colab": {
          "base_uri": "https://localhost:8080/",
          "height": 505
        }
      },
      "execution_count": 31,
      "outputs": [
        {
          "output_type": "execute_result",
          "data": {
            "text/plain": [
              "       OP070_V_1_angle_value  OP090_SnapRingPeakForce_value  \\\n",
              "0                      180.4                         190.51   \n",
              "1                      138.7                         147.70   \n",
              "2                      180.9                         150.87   \n",
              "3                      173.5                         159.56   \n",
              "4                      174.5                         172.29   \n",
              "...                      ...                            ...   \n",
              "34510                  158.2                         168.40   \n",
              "34511                  139.4                         146.24   \n",
              "34512                  165.5                         157.34   \n",
              "34513                  152.4                         165.07   \n",
              "34514                  197.8                         150.37   \n",
              "\n",
              "       OP070_V_2_angle_value  OP120_Rodage_I_mesure_value  \\\n",
              "0                      173.1                       113.64   \n",
              "1                      163.5                       109.77   \n",
              "2                      181.2                       109.79   \n",
              "3                      151.8                       113.25   \n",
              "4                      177.5                       112.88   \n",
              "...                      ...                          ...   \n",
              "34510                  180.6                       110.65   \n",
              "34511                  154.5                       108.14   \n",
              "34512                  149.8                       112.77   \n",
              "34513                  140.0                       111.19   \n",
              "34514                  190.3                       113.81   \n",
              "\n",
              "       OP090_SnapRingFinalStroke_value  OP110_Vissage_M8_torque_value  \\\n",
              "0                                12.04                          12.16   \n",
              "1                                12.12                          12.19   \n",
              "2                                11.86                          12.24   \n",
              "3                                11.82                          12.35   \n",
              "4                                12.07                          12.19   \n",
              "...                                ...                            ...   \n",
              "34510                            11.88                          12.23   \n",
              "34511                            12.04                          12.27   \n",
              "34512                            12.09                          12.17   \n",
              "34513                            12.06                          12.34   \n",
              "34514                            11.84                          12.23   \n",
              "\n",
              "       OP100_Capuchon_insertion_mesure  OP120_Rodage_U_mesure_value  \\\n",
              "0                                  0.0                        11.97   \n",
              "1                                  1.0                        11.97   \n",
              "2                                  0.0                        11.97   \n",
              "3                                  1.0                        11.97   \n",
              "4                                  0.0                        11.97   \n",
              "...                                ...                          ...   \n",
              "34510                              0.0                        11.98   \n",
              "34511                              1.0                        11.97   \n",
              "34512                              0.0                        11.97   \n",
              "34513                              0.0                        11.97   \n",
              "34514                              0.0                        11.97   \n",
              "\n",
              "       OP090_StartLinePeakForce_value  OP110_Vissage_M8_angle_value  \\\n",
              "0                               26.37                          18.8   \n",
              "1                               21.03                          18.5   \n",
              "2                               25.81                          17.5   \n",
              "3                               24.62                          15.6   \n",
              "4                               29.22                          33.6   \n",
              "...                               ...                           ...   \n",
              "34510                           24.03                          14.8   \n",
              "34511                           21.52                          15.5   \n",
              "34512                           22.65                          24.4   \n",
              "34513                           20.77                          13.6   \n",
              "34514                           26.43                          21.5   \n",
              "\n",
              "       OP090_SnapRingMidPointForce_val  OP070_V_2_torque_value  \\\n",
              "0                               109.62                    6.60   \n",
              "1                               105.48                    6.40   \n",
              "2                               100.03                    6.61   \n",
              "3                               104.94                    6.61   \n",
              "4                                99.19                    6.61   \n",
              "...                                ...                     ...   \n",
              "34510                            98.76                    6.61   \n",
              "34511                            98.37                    6.40   \n",
              "34512                            92.92                    6.62   \n",
              "34513                           101.21                    6.60   \n",
              "34514                           102.72                    6.62   \n",
              "\n",
              "       Binar OP130_Resultat_Global_v  \n",
              "0                                  0  \n",
              "1                                  0  \n",
              "2                                  0  \n",
              "3                                  0  \n",
              "4                                  0  \n",
              "...                              ...  \n",
              "34510                              0  \n",
              "34511                              0  \n",
              "34512                              0  \n",
              "34513                              0  \n",
              "34514                              0  \n",
              "\n",
              "[34515 rows x 13 columns]"
            ],
            "text/html": [
              "\n",
              "  <div id=\"df-7ba84a35-21bf-457c-b226-8519f69f693b\">\n",
              "    <div class=\"colab-df-container\">\n",
              "      <div>\n",
              "<style scoped>\n",
              "    .dataframe tbody tr th:only-of-type {\n",
              "        vertical-align: middle;\n",
              "    }\n",
              "\n",
              "    .dataframe tbody tr th {\n",
              "        vertical-align: top;\n",
              "    }\n",
              "\n",
              "    .dataframe thead th {\n",
              "        text-align: right;\n",
              "    }\n",
              "</style>\n",
              "<table border=\"1\" class=\"dataframe\">\n",
              "  <thead>\n",
              "    <tr style=\"text-align: right;\">\n",
              "      <th></th>\n",
              "      <th>OP070_V_1_angle_value</th>\n",
              "      <th>OP090_SnapRingPeakForce_value</th>\n",
              "      <th>OP070_V_2_angle_value</th>\n",
              "      <th>OP120_Rodage_I_mesure_value</th>\n",
              "      <th>OP090_SnapRingFinalStroke_value</th>\n",
              "      <th>OP110_Vissage_M8_torque_value</th>\n",
              "      <th>OP100_Capuchon_insertion_mesure</th>\n",
              "      <th>OP120_Rodage_U_mesure_value</th>\n",
              "      <th>OP090_StartLinePeakForce_value</th>\n",
              "      <th>OP110_Vissage_M8_angle_value</th>\n",
              "      <th>OP090_SnapRingMidPointForce_val</th>\n",
              "      <th>OP070_V_2_torque_value</th>\n",
              "      <th>Binar OP130_Resultat_Global_v</th>\n",
              "    </tr>\n",
              "  </thead>\n",
              "  <tbody>\n",
              "    <tr>\n",
              "      <th>0</th>\n",
              "      <td>180.4</td>\n",
              "      <td>190.51</td>\n",
              "      <td>173.1</td>\n",
              "      <td>113.64</td>\n",
              "      <td>12.04</td>\n",
              "      <td>12.16</td>\n",
              "      <td>0.0</td>\n",
              "      <td>11.97</td>\n",
              "      <td>26.37</td>\n",
              "      <td>18.8</td>\n",
              "      <td>109.62</td>\n",
              "      <td>6.60</td>\n",
              "      <td>0</td>\n",
              "    </tr>\n",
              "    <tr>\n",
              "      <th>1</th>\n",
              "      <td>138.7</td>\n",
              "      <td>147.70</td>\n",
              "      <td>163.5</td>\n",
              "      <td>109.77</td>\n",
              "      <td>12.12</td>\n",
              "      <td>12.19</td>\n",
              "      <td>1.0</td>\n",
              "      <td>11.97</td>\n",
              "      <td>21.03</td>\n",
              "      <td>18.5</td>\n",
              "      <td>105.48</td>\n",
              "      <td>6.40</td>\n",
              "      <td>0</td>\n",
              "    </tr>\n",
              "    <tr>\n",
              "      <th>2</th>\n",
              "      <td>180.9</td>\n",
              "      <td>150.87</td>\n",
              "      <td>181.2</td>\n",
              "      <td>109.79</td>\n",
              "      <td>11.86</td>\n",
              "      <td>12.24</td>\n",
              "      <td>0.0</td>\n",
              "      <td>11.97</td>\n",
              "      <td>25.81</td>\n",
              "      <td>17.5</td>\n",
              "      <td>100.03</td>\n",
              "      <td>6.61</td>\n",
              "      <td>0</td>\n",
              "    </tr>\n",
              "    <tr>\n",
              "      <th>3</th>\n",
              "      <td>173.5</td>\n",
              "      <td>159.56</td>\n",
              "      <td>151.8</td>\n",
              "      <td>113.25</td>\n",
              "      <td>11.82</td>\n",
              "      <td>12.35</td>\n",
              "      <td>1.0</td>\n",
              "      <td>11.97</td>\n",
              "      <td>24.62</td>\n",
              "      <td>15.6</td>\n",
              "      <td>104.94</td>\n",
              "      <td>6.61</td>\n",
              "      <td>0</td>\n",
              "    </tr>\n",
              "    <tr>\n",
              "      <th>4</th>\n",
              "      <td>174.5</td>\n",
              "      <td>172.29</td>\n",
              "      <td>177.5</td>\n",
              "      <td>112.88</td>\n",
              "      <td>12.07</td>\n",
              "      <td>12.19</td>\n",
              "      <td>0.0</td>\n",
              "      <td>11.97</td>\n",
              "      <td>29.22</td>\n",
              "      <td>33.6</td>\n",
              "      <td>99.19</td>\n",
              "      <td>6.61</td>\n",
              "      <td>0</td>\n",
              "    </tr>\n",
              "    <tr>\n",
              "      <th>...</th>\n",
              "      <td>...</td>\n",
              "      <td>...</td>\n",
              "      <td>...</td>\n",
              "      <td>...</td>\n",
              "      <td>...</td>\n",
              "      <td>...</td>\n",
              "      <td>...</td>\n",
              "      <td>...</td>\n",
              "      <td>...</td>\n",
              "      <td>...</td>\n",
              "      <td>...</td>\n",
              "      <td>...</td>\n",
              "      <td>...</td>\n",
              "    </tr>\n",
              "    <tr>\n",
              "      <th>34510</th>\n",
              "      <td>158.2</td>\n",
              "      <td>168.40</td>\n",
              "      <td>180.6</td>\n",
              "      <td>110.65</td>\n",
              "      <td>11.88</td>\n",
              "      <td>12.23</td>\n",
              "      <td>0.0</td>\n",
              "      <td>11.98</td>\n",
              "      <td>24.03</td>\n",
              "      <td>14.8</td>\n",
              "      <td>98.76</td>\n",
              "      <td>6.61</td>\n",
              "      <td>0</td>\n",
              "    </tr>\n",
              "    <tr>\n",
              "      <th>34511</th>\n",
              "      <td>139.4</td>\n",
              "      <td>146.24</td>\n",
              "      <td>154.5</td>\n",
              "      <td>108.14</td>\n",
              "      <td>12.04</td>\n",
              "      <td>12.27</td>\n",
              "      <td>1.0</td>\n",
              "      <td>11.97</td>\n",
              "      <td>21.52</td>\n",
              "      <td>15.5</td>\n",
              "      <td>98.37</td>\n",
              "      <td>6.40</td>\n",
              "      <td>0</td>\n",
              "    </tr>\n",
              "    <tr>\n",
              "      <th>34512</th>\n",
              "      <td>165.5</td>\n",
              "      <td>157.34</td>\n",
              "      <td>149.8</td>\n",
              "      <td>112.77</td>\n",
              "      <td>12.09</td>\n",
              "      <td>12.17</td>\n",
              "      <td>0.0</td>\n",
              "      <td>11.97</td>\n",
              "      <td>22.65</td>\n",
              "      <td>24.4</td>\n",
              "      <td>92.92</td>\n",
              "      <td>6.62</td>\n",
              "      <td>0</td>\n",
              "    </tr>\n",
              "    <tr>\n",
              "      <th>34513</th>\n",
              "      <td>152.4</td>\n",
              "      <td>165.07</td>\n",
              "      <td>140.0</td>\n",
              "      <td>111.19</td>\n",
              "      <td>12.06</td>\n",
              "      <td>12.34</td>\n",
              "      <td>0.0</td>\n",
              "      <td>11.97</td>\n",
              "      <td>20.77</td>\n",
              "      <td>13.6</td>\n",
              "      <td>101.21</td>\n",
              "      <td>6.60</td>\n",
              "      <td>0</td>\n",
              "    </tr>\n",
              "    <tr>\n",
              "      <th>34514</th>\n",
              "      <td>197.8</td>\n",
              "      <td>150.37</td>\n",
              "      <td>190.3</td>\n",
              "      <td>113.81</td>\n",
              "      <td>11.84</td>\n",
              "      <td>12.23</td>\n",
              "      <td>0.0</td>\n",
              "      <td>11.97</td>\n",
              "      <td>26.43</td>\n",
              "      <td>21.5</td>\n",
              "      <td>102.72</td>\n",
              "      <td>6.62</td>\n",
              "      <td>0</td>\n",
              "    </tr>\n",
              "  </tbody>\n",
              "</table>\n",
              "<p>34515 rows × 13 columns</p>\n",
              "</div>\n",
              "      <button class=\"colab-df-convert\" onclick=\"convertToInteractive('df-7ba84a35-21bf-457c-b226-8519f69f693b')\"\n",
              "              title=\"Convert this dataframe to an interactive table.\"\n",
              "              style=\"display:none;\">\n",
              "        \n",
              "  <svg xmlns=\"http://www.w3.org/2000/svg\" height=\"24px\"viewBox=\"0 0 24 24\"\n",
              "       width=\"24px\">\n",
              "    <path d=\"M0 0h24v24H0V0z\" fill=\"none\"/>\n",
              "    <path d=\"M18.56 5.44l.94 2.06.94-2.06 2.06-.94-2.06-.94-.94-2.06-.94 2.06-2.06.94zm-11 1L8.5 8.5l.94-2.06 2.06-.94-2.06-.94L8.5 2.5l-.94 2.06-2.06.94zm10 10l.94 2.06.94-2.06 2.06-.94-2.06-.94-.94-2.06-.94 2.06-2.06.94z\"/><path d=\"M17.41 7.96l-1.37-1.37c-.4-.4-.92-.59-1.43-.59-.52 0-1.04.2-1.43.59L10.3 9.45l-7.72 7.72c-.78.78-.78 2.05 0 2.83L4 21.41c.39.39.9.59 1.41.59.51 0 1.02-.2 1.41-.59l7.78-7.78 2.81-2.81c.8-.78.8-2.07 0-2.86zM5.41 20L4 18.59l7.72-7.72 1.47 1.35L5.41 20z\"/>\n",
              "  </svg>\n",
              "      </button>\n",
              "      \n",
              "  <style>\n",
              "    .colab-df-container {\n",
              "      display:flex;\n",
              "      flex-wrap:wrap;\n",
              "      gap: 12px;\n",
              "    }\n",
              "\n",
              "    .colab-df-convert {\n",
              "      background-color: #E8F0FE;\n",
              "      border: none;\n",
              "      border-radius: 50%;\n",
              "      cursor: pointer;\n",
              "      display: none;\n",
              "      fill: #1967D2;\n",
              "      height: 32px;\n",
              "      padding: 0 0 0 0;\n",
              "      width: 32px;\n",
              "    }\n",
              "\n",
              "    .colab-df-convert:hover {\n",
              "      background-color: #E2EBFA;\n",
              "      box-shadow: 0px 1px 2px rgba(60, 64, 67, 0.3), 0px 1px 3px 1px rgba(60, 64, 67, 0.15);\n",
              "      fill: #174EA6;\n",
              "    }\n",
              "\n",
              "    [theme=dark] .colab-df-convert {\n",
              "      background-color: #3B4455;\n",
              "      fill: #D2E3FC;\n",
              "    }\n",
              "\n",
              "    [theme=dark] .colab-df-convert:hover {\n",
              "      background-color: #434B5C;\n",
              "      box-shadow: 0px 1px 3px 1px rgba(0, 0, 0, 0.15);\n",
              "      filter: drop-shadow(0px 1px 2px rgba(0, 0, 0, 0.3));\n",
              "      fill: #FFFFFF;\n",
              "    }\n",
              "  </style>\n",
              "\n",
              "      <script>\n",
              "        const buttonEl =\n",
              "          document.querySelector('#df-7ba84a35-21bf-457c-b226-8519f69f693b button.colab-df-convert');\n",
              "        buttonEl.style.display =\n",
              "          google.colab.kernel.accessAllowed ? 'block' : 'none';\n",
              "\n",
              "        async function convertToInteractive(key) {\n",
              "          const element = document.querySelector('#df-7ba84a35-21bf-457c-b226-8519f69f693b');\n",
              "          const dataTable =\n",
              "            await google.colab.kernel.invokeFunction('convertToInteractive',\n",
              "                                                     [key], {});\n",
              "          if (!dataTable) return;\n",
              "\n",
              "          const docLinkHtml = 'Like what you see? Visit the ' +\n",
              "            '<a target=\"_blank\" href=https://colab.research.google.com/notebooks/data_table.ipynb>data table notebook</a>'\n",
              "            + ' to learn more about interactive tables.';\n",
              "          element.innerHTML = '';\n",
              "          dataTable['output_type'] = 'display_data';\n",
              "          await google.colab.output.renderOutput(dataTable, element);\n",
              "          const docLink = document.createElement('div');\n",
              "          docLink.innerHTML = docLinkHtml;\n",
              "          element.appendChild(docLink);\n",
              "        }\n",
              "      </script>\n",
              "    </div>\n",
              "  </div>\n",
              "  "
            ]
          },
          "metadata": {},
          "execution_count": 31
        }
      ]
    },
    {
      "cell_type": "markdown",
      "source": [
        "### Class imbalance"
      ],
      "metadata": {
        "id": "nPXt_jBndIjB"
      }
    },
    {
      "cell_type": "code",
      "source": [
        "labels_raw = df_training_mod['Binar OP130_Resultat_Global_v']\n",
        "labels_raw"
      ],
      "metadata": {
        "id": "KhTvDLLIeiVE",
        "outputId": "bce15656-510f-4a54-9430-9dc076eafaf4",
        "colab": {
          "base_uri": "https://localhost:8080/"
        }
      },
      "execution_count": 37,
      "outputs": [
        {
          "output_type": "execute_result",
          "data": {
            "text/plain": [
              "0        0\n",
              "1        0\n",
              "2        0\n",
              "3        0\n",
              "4        0\n",
              "        ..\n",
              "34510    0\n",
              "34511    0\n",
              "34512    0\n",
              "34513    0\n",
              "34514    0\n",
              "Name: Binar OP130_Resultat_Global_v, Length: 34515, dtype: int64"
            ]
          },
          "metadata": {},
          "execution_count": 37
        }
      ]
    },
    {
      "cell_type": "code",
      "source": [
        "Counter(labels_raw)"
      ],
      "metadata": {
        "id": "qkQhb4DQdRbc",
        "outputId": "f14adf02-8afa-4688-abf3-2a74de257a49",
        "colab": {
          "base_uri": "https://localhost:8080/"
        }
      },
      "execution_count": 33,
      "outputs": [
        {
          "output_type": "execute_result",
          "data": {
            "text/plain": [
              "Counter({0: 34210, 1: 305})"
            ]
          },
          "metadata": {},
          "execution_count": 33
        }
      ]
    },
    {
      "cell_type": "markdown",
      "source": [
        "On va corriger ce déséquilibre en applicant la fonction SMOTE()"
      ],
      "metadata": {
        "id": "dgcT6G9Oeviz"
      }
    },
    {
      "cell_type": "code",
      "source": [
        "smote = SMOTE()\n",
        "df_training, labels = smote.fit_resample(df_training_mod, labels_raw)"
      ],
      "metadata": {
        "id": "pUTKPmXMe2WW"
      },
      "execution_count": 35,
      "outputs": []
    },
    {
      "cell_type": "code",
      "source": [
        "Counter(labels)"
      ],
      "metadata": {
        "id": "PxG69jCdftJu",
        "outputId": "30f59a87-3536-4bfa-c61f-05dfadb709d5",
        "colab": {
          "base_uri": "https://localhost:8080/"
        }
      },
      "execution_count": 36,
      "outputs": [
        {
          "output_type": "execute_result",
          "data": {
            "text/plain": [
              "Counter({0: 34210, 1: 34210})"
            ]
          },
          "metadata": {},
          "execution_count": 36
        }
      ]
    },
    {
      "cell_type": "markdown",
      "source": [
        "### Scaling"
      ],
      "metadata": {
        "id": "DoX7RjDgfyol"
      }
    },
    {
      "cell_type": "code",
      "source": [
        "scaler = StandardScaler()\n",
        "scaler.fit(df_training)\n",
        "\n",
        "df_training = scaler.transform(df_training)"
      ],
      "metadata": {
        "id": "pMNr06yQf0rK"
      },
      "execution_count": 40,
      "outputs": []
    },
    {
      "cell_type": "code",
      "source": [
        "print('X_train scaled\\n', df_training[0:6, :] )"
      ],
      "metadata": {
        "id": "eF9AoEFjhq0a",
        "outputId": "05a801fc-a94d-4b67-e5ba-55f2ac20b282",
        "colab": {
          "base_uri": "https://localhost:8080/"
        }
      },
      "execution_count": 44,
      "outputs": [
        {
          "output_type": "stream",
          "name": "stdout",
          "text": [
            "X_train scaled\n",
            " [[-1.73929397  1.53209786  3.31075928  1.02963778  0.06104866  0.4056304\n",
            "  -1.66552284 -1.20963666 -0.32308274  1.12992514  0.12346919  1.89205798\n",
            "   0.763782   -1.        ]\n",
            " [-1.73919268 -1.42729323 -0.84397194  0.32582806 -1.17037696  0.99042589\n",
            "  -1.14542288  0.9792669  -0.32308274 -1.18456635  0.07563956  1.20261752\n",
            "  -1.4134327  -1.        ]\n",
            " [-1.73909138  1.56758216 -0.53632191  1.62347722 -1.16401301 -0.91015946\n",
            "  -0.27858961 -1.20963666 -0.32308274  0.88720693 -0.08379254  0.29502077\n",
            "   0.87264273 -1.        ]\n",
            " [-1.73899009  1.04241444  0.3070468  -0.53194003 -0.06304849 -1.2025572\n",
            "   1.62844359  0.9792669  -0.32308274  0.37143074 -0.38671354  1.1126905\n",
            "   0.87264273 -1.        ]\n",
            " [-1.73888879  1.11338305  1.54249946  1.35221723 -0.18078169  0.62492871\n",
            "  -1.14542288 -1.20963666 -0.32308274  2.36518746  2.48306431  0.1551343\n",
            "   0.87264273 -1.        ]\n",
            " [-1.73878749 -0.00792101  0.91167131  1.41819939 -0.43215798 -0.76396058\n",
            "  -1.83888949 -1.20963666 -0.32308274  0.9652235   0.68148155 -0.18792061\n",
            "   1.0903642  -1.        ]]\n"
          ]
        }
      ]
    },
    {
      "cell_type": "code",
      "source": [
        "labels"
      ],
      "metadata": {
        "id": "bJQnJgXajtXC",
        "outputId": "7758c18e-aba3-48a0-f9d5-87c028d6b2ee",
        "colab": {
          "base_uri": "https://localhost:8080/"
        }
      },
      "execution_count": 45,
      "outputs": [
        {
          "output_type": "execute_result",
          "data": {
            "text/plain": [
              "0        0\n",
              "1        0\n",
              "2        0\n",
              "3        0\n",
              "4        0\n",
              "        ..\n",
              "68415    1\n",
              "68416    1\n",
              "68417    1\n",
              "68418    1\n",
              "68419    1\n",
              "Name: Binar OP130_Resultat_Global_v, Length: 68420, dtype: int64"
            ]
          },
          "metadata": {},
          "execution_count": 45
        }
      ]
    },
    {
      "cell_type": "code",
      "source": [
        "df_training['Binar OP130_Resultat_Global_v']"
      ],
      "metadata": {
        "id": "Me8AKcZRkJUq",
        "outputId": "8782e445-d381-4c8d-abcd-639d759b2a36",
        "colab": {
          "base_uri": "https://localhost:8080/",
          "height": 168
        }
      },
      "execution_count": 46,
      "outputs": [
        {
          "output_type": "error",
          "ename": "IndexError",
          "evalue": "ignored",
          "traceback": [
            "\u001b[0;31m---------------------------------------------------------------------------\u001b[0m",
            "\u001b[0;31mIndexError\u001b[0m                                Traceback (most recent call last)",
            "\u001b[0;32m<ipython-input-46-3ca99a41be5e>\u001b[0m in \u001b[0;36m<cell line: 1>\u001b[0;34m()\u001b[0m\n\u001b[0;32m----> 1\u001b[0;31m \u001b[0mdf_training\u001b[0m\u001b[0;34m[\u001b[0m\u001b[0;34m'Binar OP130_Resultat_Global_v'\u001b[0m\u001b[0;34m]\u001b[0m\u001b[0;34m\u001b[0m\u001b[0;34m\u001b[0m\u001b[0m\n\u001b[0m",
            "\u001b[0;31mIndexError\u001b[0m: only integers, slices (`:`), ellipsis (`...`), numpy.newaxis (`None`) and integer or boolean arrays are valid indices"
          ]
        }
      ]
    }
  ]
}